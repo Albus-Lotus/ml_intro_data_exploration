{
 "cells": [
  {
   "cell_type": "code",
   "execution_count": 1,
   "id": "b489cb9e",
   "metadata": {},
   "outputs": [],
   "source": [
    "import pandas as pd\n",
    "import numpy as np\n",
    "import matplotlib.pyplot as plt\n",
    "import seaborn as sns"
   ]
  },
  {
   "cell_type": "code",
   "execution_count": 2,
   "id": "ee9b53fc-97c2-495d-8e7a-d265a450b83a",
   "metadata": {},
   "outputs": [],
   "source": [
    "pd.set_option('display.max_columns', None)\n",
    "pd.set_option('display.max_rows', None)"
   ]
  },
  {
   "cell_type": "code",
   "execution_count": 3,
   "id": "723005f6-7339-47de-8ca2-7cc61846f78b",
   "metadata": {},
   "outputs": [],
   "source": [
    "census_data = pd.read_csv(\"adult.csv\")"
   ]
  },
  {
   "cell_type": "markdown",
   "id": "d07912a0",
   "metadata": {
    "tags": []
   },
   "source": [
    "# Context"
   ]
  },
  {
   "cell_type": "markdown",
   "id": "566b4e44-0dc7-4a4f-a24e-bda79d3c5d25",
   "metadata": {},
   "source": [
    "Рассмотрим первые записи датасета:"
   ]
  },
  {
   "cell_type": "code",
   "execution_count": 4,
   "id": "6b981d68",
   "metadata": {},
   "outputs": [
    {
     "data": {
      "text/html": [
       "<div>\n",
       "<style scoped>\n",
       "    .dataframe tbody tr th:only-of-type {\n",
       "        vertical-align: middle;\n",
       "    }\n",
       "\n",
       "    .dataframe tbody tr th {\n",
       "        vertical-align: top;\n",
       "    }\n",
       "\n",
       "    .dataframe thead th {\n",
       "        text-align: right;\n",
       "    }\n",
       "</style>\n",
       "<table border=\"1\" class=\"dataframe\">\n",
       "  <thead>\n",
       "    <tr style=\"text-align: right;\">\n",
       "      <th></th>\n",
       "      <th>age</th>\n",
       "      <th>workclass</th>\n",
       "      <th>fnlwgt</th>\n",
       "      <th>education</th>\n",
       "      <th>education.num</th>\n",
       "      <th>marital.status</th>\n",
       "      <th>occupation</th>\n",
       "      <th>relationship</th>\n",
       "      <th>race</th>\n",
       "      <th>sex</th>\n",
       "      <th>capital.gain</th>\n",
       "      <th>capital.loss</th>\n",
       "      <th>hours.per.week</th>\n",
       "      <th>native.country</th>\n",
       "      <th>income</th>\n",
       "    </tr>\n",
       "  </thead>\n",
       "  <tbody>\n",
       "    <tr>\n",
       "      <th>0</th>\n",
       "      <td>90</td>\n",
       "      <td>?</td>\n",
       "      <td>77053</td>\n",
       "      <td>HS-grad</td>\n",
       "      <td>9</td>\n",
       "      <td>Widowed</td>\n",
       "      <td>?</td>\n",
       "      <td>Not-in-family</td>\n",
       "      <td>White</td>\n",
       "      <td>Female</td>\n",
       "      <td>0</td>\n",
       "      <td>4356</td>\n",
       "      <td>40</td>\n",
       "      <td>United-States</td>\n",
       "      <td>&lt;=50K</td>\n",
       "    </tr>\n",
       "    <tr>\n",
       "      <th>1</th>\n",
       "      <td>82</td>\n",
       "      <td>Private</td>\n",
       "      <td>132870</td>\n",
       "      <td>HS-grad</td>\n",
       "      <td>9</td>\n",
       "      <td>Widowed</td>\n",
       "      <td>Exec-managerial</td>\n",
       "      <td>Not-in-family</td>\n",
       "      <td>White</td>\n",
       "      <td>Female</td>\n",
       "      <td>0</td>\n",
       "      <td>4356</td>\n",
       "      <td>18</td>\n",
       "      <td>United-States</td>\n",
       "      <td>&lt;=50K</td>\n",
       "    </tr>\n",
       "    <tr>\n",
       "      <th>2</th>\n",
       "      <td>66</td>\n",
       "      <td>?</td>\n",
       "      <td>186061</td>\n",
       "      <td>Some-college</td>\n",
       "      <td>10</td>\n",
       "      <td>Widowed</td>\n",
       "      <td>?</td>\n",
       "      <td>Unmarried</td>\n",
       "      <td>Black</td>\n",
       "      <td>Female</td>\n",
       "      <td>0</td>\n",
       "      <td>4356</td>\n",
       "      <td>40</td>\n",
       "      <td>United-States</td>\n",
       "      <td>&lt;=50K</td>\n",
       "    </tr>\n",
       "    <tr>\n",
       "      <th>3</th>\n",
       "      <td>54</td>\n",
       "      <td>Private</td>\n",
       "      <td>140359</td>\n",
       "      <td>7th-8th</td>\n",
       "      <td>4</td>\n",
       "      <td>Divorced</td>\n",
       "      <td>Machine-op-inspct</td>\n",
       "      <td>Unmarried</td>\n",
       "      <td>White</td>\n",
       "      <td>Female</td>\n",
       "      <td>0</td>\n",
       "      <td>3900</td>\n",
       "      <td>40</td>\n",
       "      <td>United-States</td>\n",
       "      <td>&lt;=50K</td>\n",
       "    </tr>\n",
       "    <tr>\n",
       "      <th>4</th>\n",
       "      <td>41</td>\n",
       "      <td>Private</td>\n",
       "      <td>264663</td>\n",
       "      <td>Some-college</td>\n",
       "      <td>10</td>\n",
       "      <td>Separated</td>\n",
       "      <td>Prof-specialty</td>\n",
       "      <td>Own-child</td>\n",
       "      <td>White</td>\n",
       "      <td>Female</td>\n",
       "      <td>0</td>\n",
       "      <td>3900</td>\n",
       "      <td>40</td>\n",
       "      <td>United-States</td>\n",
       "      <td>&lt;=50K</td>\n",
       "    </tr>\n",
       "  </tbody>\n",
       "</table>\n",
       "</div>"
      ],
      "text/plain": [
       "   age workclass  fnlwgt     education  education.num marital.status  \\\n",
       "0   90         ?   77053       HS-grad              9        Widowed   \n",
       "1   82   Private  132870       HS-grad              9        Widowed   \n",
       "2   66         ?  186061  Some-college             10        Widowed   \n",
       "3   54   Private  140359       7th-8th              4       Divorced   \n",
       "4   41   Private  264663  Some-college             10      Separated   \n",
       "\n",
       "          occupation   relationship   race     sex  capital.gain  \\\n",
       "0                  ?  Not-in-family  White  Female             0   \n",
       "1    Exec-managerial  Not-in-family  White  Female             0   \n",
       "2                  ?      Unmarried  Black  Female             0   \n",
       "3  Machine-op-inspct      Unmarried  White  Female             0   \n",
       "4     Prof-specialty      Own-child  White  Female             0   \n",
       "\n",
       "   capital.loss  hours.per.week native.country income  \n",
       "0          4356              40  United-States  <=50K  \n",
       "1          4356              18  United-States  <=50K  \n",
       "2          4356              40  United-States  <=50K  \n",
       "3          3900              40  United-States  <=50K  \n",
       "4          3900              40  United-States  <=50K  "
      ]
     },
     "execution_count": 4,
     "metadata": {},
     "output_type": "execute_result"
    }
   ],
   "source": [
    "census_data.head()"
   ]
  },
  {
   "cell_type": "code",
   "execution_count": 5,
   "id": "7f3048ae-21e4-40e3-bec0-7f1095e52ab3",
   "metadata": {},
   "outputs": [
    {
     "data": {
      "text/plain": [
       "(32561, 15)"
      ]
     },
     "execution_count": 5,
     "metadata": {},
     "output_type": "execute_result"
    }
   ],
   "source": [
    "census_data.shape"
   ]
  },
  {
   "cell_type": "code",
   "execution_count": 6,
   "id": "e24f883d-b983-4459-94fd-ba26a66426a6",
   "metadata": {},
   "outputs": [
    {
     "name": "stdout",
     "output_type": "stream",
     "text": [
      "<class 'pandas.core.frame.DataFrame'>\n",
      "RangeIndex: 32561 entries, 0 to 32560\n",
      "Data columns (total 15 columns):\n",
      " #   Column          Non-Null Count  Dtype \n",
      "---  ------          --------------  ----- \n",
      " 0   age             32561 non-null  int64 \n",
      " 1   workclass       32561 non-null  object\n",
      " 2   fnlwgt          32561 non-null  int64 \n",
      " 3   education       32561 non-null  object\n",
      " 4   education.num   32561 non-null  int64 \n",
      " 5   marital.status  32561 non-null  object\n",
      " 6   occupation      32561 non-null  object\n",
      " 7   relationship    32561 non-null  object\n",
      " 8   race            32561 non-null  object\n",
      " 9   sex             32561 non-null  object\n",
      " 10  capital.gain    32561 non-null  int64 \n",
      " 11  capital.loss    32561 non-null  int64 \n",
      " 12  hours.per.week  32561 non-null  int64 \n",
      " 13  native.country  32561 non-null  object\n",
      " 14  income          32561 non-null  object\n",
      "dtypes: int64(6), object(9)\n",
      "memory usage: 3.7+ MB\n"
     ]
    }
   ],
   "source": [
    "census_data.info()"
   ]
  },
  {
   "cell_type": "markdown",
   "id": "9b4320c6",
   "metadata": {
    "tags": []
   },
   "source": [
    "# Data quality assessment"
   ]
  },
  {
   "cell_type": "code",
   "execution_count": 7,
   "id": "6ca86f06-275b-4747-80c8-a0bff6696cec",
   "metadata": {},
   "outputs": [
    {
     "data": {
      "text/plain": [
       "True"
      ]
     },
     "execution_count": 7,
     "metadata": {},
     "output_type": "execute_result"
    }
   ],
   "source": [
    "census_data.duplicated().any()"
   ]
  },
  {
   "cell_type": "markdown",
   "id": "675cd0a9-64c6-4989-84b5-fd3cd6735117",
   "metadata": {},
   "source": [
    "Есть дублирование данных, которые следует удалить."
   ]
  },
  {
   "cell_type": "code",
   "execution_count": 8,
   "id": "92c56fb3-4b24-41ad-921a-99982edd2c83",
   "metadata": {},
   "outputs": [],
   "source": [
    "census_data = census_data.drop_duplicates(keep = \"first\")"
   ]
  },
  {
   "cell_type": "markdown",
   "id": "bd18a432-3a1b-4540-b5d9-7ca69dfa1790",
   "metadata": {
    "tags": []
   },
   "source": [
    "Можно заметить наличие знаков ? в датасете. Это null значения. Необходимо найти все колонки с таким значением и заменить на моду (если там значительно выделяется на фоне остальных) или среднее значение."
   ]
  },
  {
   "cell_type": "markdown",
   "id": "5408eca5",
   "metadata": {
    "tags": []
   },
   "source": [
    "# Data exploration"
   ]
  },
  {
   "cell_type": "code",
   "execution_count": 9,
   "id": "56cd9e40-cd6b-4ac8-b994-9f47373d5ec2",
   "metadata": {},
   "outputs": [
    {
     "data": {
      "text/html": [
       "<div>\n",
       "<style scoped>\n",
       "    .dataframe tbody tr th:only-of-type {\n",
       "        vertical-align: middle;\n",
       "    }\n",
       "\n",
       "    .dataframe tbody tr th {\n",
       "        vertical-align: top;\n",
       "    }\n",
       "\n",
       "    .dataframe thead th {\n",
       "        text-align: right;\n",
       "    }\n",
       "</style>\n",
       "<table border=\"1\" class=\"dataframe\">\n",
       "  <thead>\n",
       "    <tr style=\"text-align: right;\">\n",
       "      <th></th>\n",
       "      <th>count</th>\n",
       "      <th>mean</th>\n",
       "      <th>std</th>\n",
       "      <th>min</th>\n",
       "      <th>25%</th>\n",
       "      <th>50%</th>\n",
       "      <th>75%</th>\n",
       "      <th>max</th>\n",
       "    </tr>\n",
       "  </thead>\n",
       "  <tbody>\n",
       "    <tr>\n",
       "      <th>age</th>\n",
       "      <td>32537.0</td>\n",
       "      <td>38.585549</td>\n",
       "      <td>13.637984</td>\n",
       "      <td>17.0</td>\n",
       "      <td>28.0</td>\n",
       "      <td>37.0</td>\n",
       "      <td>48.0</td>\n",
       "      <td>90.0</td>\n",
       "    </tr>\n",
       "    <tr>\n",
       "      <th>fnlwgt</th>\n",
       "      <td>32537.0</td>\n",
       "      <td>189780.848511</td>\n",
       "      <td>105556.471009</td>\n",
       "      <td>12285.0</td>\n",
       "      <td>117827.0</td>\n",
       "      <td>178356.0</td>\n",
       "      <td>236993.0</td>\n",
       "      <td>1484705.0</td>\n",
       "    </tr>\n",
       "    <tr>\n",
       "      <th>education.num</th>\n",
       "      <td>32537.0</td>\n",
       "      <td>10.081815</td>\n",
       "      <td>2.571633</td>\n",
       "      <td>1.0</td>\n",
       "      <td>9.0</td>\n",
       "      <td>10.0</td>\n",
       "      <td>12.0</td>\n",
       "      <td>16.0</td>\n",
       "    </tr>\n",
       "    <tr>\n",
       "      <th>capital.gain</th>\n",
       "      <td>32537.0</td>\n",
       "      <td>1078.443741</td>\n",
       "      <td>7387.957424</td>\n",
       "      <td>0.0</td>\n",
       "      <td>0.0</td>\n",
       "      <td>0.0</td>\n",
       "      <td>0.0</td>\n",
       "      <td>99999.0</td>\n",
       "    </tr>\n",
       "    <tr>\n",
       "      <th>capital.loss</th>\n",
       "      <td>32537.0</td>\n",
       "      <td>87.368227</td>\n",
       "      <td>403.101833</td>\n",
       "      <td>0.0</td>\n",
       "      <td>0.0</td>\n",
       "      <td>0.0</td>\n",
       "      <td>0.0</td>\n",
       "      <td>4356.0</td>\n",
       "    </tr>\n",
       "    <tr>\n",
       "      <th>hours.per.week</th>\n",
       "      <td>32537.0</td>\n",
       "      <td>40.440329</td>\n",
       "      <td>12.346889</td>\n",
       "      <td>1.0</td>\n",
       "      <td>40.0</td>\n",
       "      <td>40.0</td>\n",
       "      <td>45.0</td>\n",
       "      <td>99.0</td>\n",
       "    </tr>\n",
       "  </tbody>\n",
       "</table>\n",
       "</div>"
      ],
      "text/plain": [
       "                  count           mean            std      min       25%  \\\n",
       "age             32537.0      38.585549      13.637984     17.0      28.0   \n",
       "fnlwgt          32537.0  189780.848511  105556.471009  12285.0  117827.0   \n",
       "education.num   32537.0      10.081815       2.571633      1.0       9.0   \n",
       "capital.gain    32537.0    1078.443741    7387.957424      0.0       0.0   \n",
       "capital.loss    32537.0      87.368227     403.101833      0.0       0.0   \n",
       "hours.per.week  32537.0      40.440329      12.346889      1.0      40.0   \n",
       "\n",
       "                     50%       75%        max  \n",
       "age                 37.0      48.0       90.0  \n",
       "fnlwgt          178356.0  236993.0  1484705.0  \n",
       "education.num       10.0      12.0       16.0  \n",
       "capital.gain         0.0       0.0    99999.0  \n",
       "capital.loss         0.0       0.0     4356.0  \n",
       "hours.per.week      40.0      45.0       99.0  "
      ]
     },
     "execution_count": 9,
     "metadata": {},
     "output_type": "execute_result"
    }
   ],
   "source": [
    "census_data.describe().T"
   ]
  },
  {
   "cell_type": "markdown",
   "id": "e26900b2-05ff-4396-9ec6-1c7504d6a839",
   "metadata": {},
   "source": [
    "Среднее значение возраста 38,59 с медианой 37, что говорит об уже взрослых людях, которые могут иметь семьи, что надо будет скорее всего учитывать.\n",
    "fnlwht показывает вес, который связан со многими факторами, но нам надо будет это учитывать со страной, к которой он принадлежит.\n",
    "Можно заметить, что данные в колонках \"capital.gain\" и \"capital.loss\" сильно разбросаны. В нашем случае большое количество крайних значений 0 в большинстве строчек."
   ]
  },
  {
   "cell_type": "markdown",
   "id": "e4383943-4c5d-44c7-a165-61169a8f5da8",
   "metadata": {},
   "source": [
    "Колонка \"relationship\" не сможет дать нам данные для размышления, поэтому ее можно удалить."
   ]
  },
  {
   "cell_type": "code",
   "execution_count": 10,
   "id": "fe75125d-2438-4a6a-88b4-494ce4a88407",
   "metadata": {},
   "outputs": [],
   "source": [
    "del census_data['relationship']"
   ]
  },
  {
   "cell_type": "markdown",
   "id": "a6d183cf-8cdd-4960-b25a-60333f56dce3",
   "metadata": {
    "tags": []
   },
   "source": [
    "### Income"
   ]
  },
  {
   "cell_type": "code",
   "execution_count": 11,
   "id": "1e5aa36f-767c-47c6-add4-5b6884c87fa3",
   "metadata": {},
   "outputs": [
    {
     "data": {
      "text/plain": [
       "<AxesSubplot:xlabel='income', ylabel='Count'>"
      ]
     },
     "execution_count": 11,
     "metadata": {},
     "output_type": "execute_result"
    },
    {
     "data": {
      "image/png": "[encoded data removed]",
      "text/plain": [
       "<Figure size 1080x720 with 1 Axes>"
      ]
     },
     "metadata": {
      "needs_background": "light"
     },
     "output_type": "display_data"
    }
   ],
   "source": [
    "plt.figure(figsize = (15, 10))\n",
    "sns.histplot(data = census_data, x = 'income')"
   ]
  },
  {
   "cell_type": "code",
   "execution_count": 12,
   "id": "e30382d0-bb8e-4f19-a295-12a433d88a45",
   "metadata": {},
   "outputs": [
    {
     "data": {
      "text/plain": [
       "<=50K    24698\n",
       ">50K      7839\n",
       "Name: income, dtype: int64"
      ]
     },
     "execution_count": 12,
     "metadata": {},
     "output_type": "execute_result"
    }
   ],
   "source": [
    "census_data['income'].value_counts()"
   ]
  },
  {
   "cell_type": "markdown",
   "id": "c12ef13d-6e1c-4366-b783-7a1ba73cedbd",
   "metadata": {},
   "source": [
    "Количество людей, получающий больше 50к, в 3 раза меньше остальных."
   ]
  },
  {
   "cell_type": "markdown",
   "id": "a34bb16d-f751-4dce-9e02-a9c2e312ccaf",
   "metadata": {
    "tags": []
   },
   "source": [
    "### Age"
   ]
  },
  {
   "cell_type": "code",
   "execution_count": 13,
   "id": "090c7906-e964-41ff-91a7-a0e93cca8c3b",
   "metadata": {},
   "outputs": [
    {
     "data": {
      "text/plain": [
       "<AxesSubplot:xlabel='age', ylabel='Count'>"
      ]
     },
     "execution_count": 13,
     "metadata": {},
     "output_type": "execute_result"
    },
    {
     "data": {
      "image/png": "[encoded data removed]",
      "text/plain": [
       "<Figure size 1080x720 with 1 Axes>"
      ]
     },
     "metadata": {
      "needs_background": "light"
     },
     "output_type": "display_data"
    }
   ],
   "source": [
    "plt.figure(figsize = (15, 10))\n",
    "sns.histplot(data = census_data, x = 'age', kde = True)"
   ]
  },
  {
   "cell_type": "code",
   "execution_count": 14,
   "id": "d047d598-ed51-4a0d-b31c-61a55f1edc3b",
   "metadata": {},
   "outputs": [
    {
     "data": {
      "text/plain": [
       "<AxesSubplot:xlabel='age'>"
      ]
     },
     "execution_count": 14,
     "metadata": {},
     "output_type": "execute_result"
    },
    {
     "data": {
      "image/png": "[encoded data removed]",
      "text/plain": [
       "<Figure size 1080x720 with 1 Axes>"
      ]
     },
     "metadata": {
      "needs_background": "light"
     },
     "output_type": "display_data"
    }
   ],
   "source": [
    "plt.figure(figsize = (15, 10))\n",
    "sns.boxplot(data = census_data, x = 'age')"
   ]
  },
  {
   "cell_type": "code",
   "execution_count": 15,
   "id": "abd33a7e-a18a-4b1f-afe7-45bcfb677e49",
   "metadata": {},
   "outputs": [
    {
     "data": {
      "text/plain": [
       "count    32537.000000\n",
       "mean        38.585549\n",
       "std         13.637984\n",
       "min         17.000000\n",
       "25%         28.000000\n",
       "50%         37.000000\n",
       "75%         48.000000\n",
       "max         90.000000\n",
       "Name: age, dtype: float64"
      ]
     },
     "execution_count": 15,
     "metadata": {},
     "output_type": "execute_result"
    }
   ],
   "source": [
    "census_data['age'].describe()"
   ]
  },
  {
   "cell_type": "markdown",
   "id": "42194e48-b0c4-444d-a629-df6330daf5b5",
   "metadata": {},
   "source": [
    "Хоть средний возраст и 38.59, но медиана составляет 37, что говорит о преобладании количества людей слева от 38.59. Но такое среднее значение получено из-за экстримальных показателей ближе к 90 лет."
   ]
  },
  {
   "cell_type": "code",
   "execution_count": 16,
   "id": "e67ea6ac-ba05-4341-a336-14ec48d6bb32",
   "metadata": {},
   "outputs": [
    {
     "data": {
      "text/html": [
       "<div>\n",
       "<style scoped>\n",
       "    .dataframe tbody tr th:only-of-type {\n",
       "        vertical-align: middle;\n",
       "    }\n",
       "\n",
       "    .dataframe tbody tr th {\n",
       "        vertical-align: top;\n",
       "    }\n",
       "\n",
       "    .dataframe thead th {\n",
       "        text-align: right;\n",
       "    }\n",
       "</style>\n",
       "<table border=\"1\" class=\"dataframe\">\n",
       "  <thead>\n",
       "    <tr style=\"text-align: right;\">\n",
       "      <th></th>\n",
       "      <th>count</th>\n",
       "      <th>mean</th>\n",
       "      <th>std</th>\n",
       "      <th>min</th>\n",
       "      <th>25%</th>\n",
       "      <th>50%</th>\n",
       "      <th>75%</th>\n",
       "      <th>max</th>\n",
       "    </tr>\n",
       "    <tr>\n",
       "      <th>income</th>\n",
       "      <th></th>\n",
       "      <th></th>\n",
       "      <th></th>\n",
       "      <th></th>\n",
       "      <th></th>\n",
       "      <th></th>\n",
       "      <th></th>\n",
       "      <th></th>\n",
       "    </tr>\n",
       "  </thead>\n",
       "  <tbody>\n",
       "    <tr>\n",
       "      <th>&lt;=50K</th>\n",
       "      <td>24698.0</td>\n",
       "      <td>36.787392</td>\n",
       "      <td>14.017335</td>\n",
       "      <td>17.0</td>\n",
       "      <td>25.0</td>\n",
       "      <td>34.0</td>\n",
       "      <td>46.0</td>\n",
       "      <td>90.0</td>\n",
       "    </tr>\n",
       "    <tr>\n",
       "      <th>&gt;50K</th>\n",
       "      <td>7839.0</td>\n",
       "      <td>44.250925</td>\n",
       "      <td>10.520102</td>\n",
       "      <td>19.0</td>\n",
       "      <td>36.0</td>\n",
       "      <td>44.0</td>\n",
       "      <td>51.0</td>\n",
       "      <td>90.0</td>\n",
       "    </tr>\n",
       "  </tbody>\n",
       "</table>\n",
       "</div>"
      ],
      "text/plain": [
       "          count       mean        std   min   25%   50%   75%   max\n",
       "income                                                             \n",
       "<=50K   24698.0  36.787392  14.017335  17.0  25.0  34.0  46.0  90.0\n",
       ">50K     7839.0  44.250925  10.520102  19.0  36.0  44.0  51.0  90.0"
      ]
     },
     "execution_count": 16,
     "metadata": {},
     "output_type": "execute_result"
    }
   ],
   "source": [
    "census_data.groupby(['income'])['age'].describe()"
   ]
  },
  {
   "cell_type": "markdown",
   "id": "459e1216-6f01-4da9-8e19-2b5353f06d3d",
   "metadata": {},
   "source": [
    "Больше 50к получают люди более старшего поколения."
   ]
  },
  {
   "cell_type": "markdown",
   "id": "2855cf92-3f19-4f5b-8145-ac8b9810cf48",
   "metadata": {
    "tags": []
   },
   "source": [
    "### Workclass"
   ]
  },
  {
   "cell_type": "code",
   "execution_count": 17,
   "id": "fb6b430e-5f47-4abc-a135-093a6cdd6f13",
   "metadata": {},
   "outputs": [
    {
     "data": {
      "text/plain": [
       "<AxesSubplot:xlabel='workclass', ylabel='Count'>"
      ]
     },
     "execution_count": 17,
     "metadata": {},
     "output_type": "execute_result"
    },
    {
     "data": {
      "image/png": "[encoded data removed]",
      "text/plain": [
       "<Figure size 1080x720 with 1 Axes>"
      ]
     },
     "metadata": {
      "needs_background": "light"
     },
     "output_type": "display_data"
    }
   ],
   "source": [
    "plt.figure(figsize = (15, 10))\n",
    "sns.histplot(data = census_data, x = 'workclass')"
   ]
  },
  {
   "cell_type": "code",
   "execution_count": 18,
   "id": "d3d0fad0-a0d0-4fb5-97f2-86b9a2a71734",
   "metadata": {},
   "outputs": [
    {
     "data": {
      "text/plain": [
       "Private             22673\n",
       "Self-emp-not-inc     2540\n",
       "Local-gov            2093\n",
       "?                    1836\n",
       "State-gov            1298\n",
       "Self-emp-inc         1116\n",
       "Federal-gov           960\n",
       "Without-pay            14\n",
       "Never-worked            7\n",
       "Name: workclass, dtype: int64"
      ]
     },
     "execution_count": 18,
     "metadata": {},
     "output_type": "execute_result"
    }
   ],
   "source": [
    "census_data['workclass'].value_counts()"
   ]
  },
  {
   "cell_type": "markdown",
   "id": "ab3ac381-d54d-4f7b-ab74-c64ceea66ea7",
   "metadata": {
    "tags": []
   },
   "source": [
    "Большинство людей относится к \"Private\", так что им можно заменить null значения."
   ]
  },
  {
   "cell_type": "code",
   "execution_count": 19,
   "id": "17a676ca-54b2-4127-b52d-546514eee52b",
   "metadata": {
    "tags": []
   },
   "outputs": [
    {
     "data": {
      "text/plain": [
       "workclass         income\n",
       "?                 <=50K      1645\n",
       "                  >50K        191\n",
       "Federal-gov       <=50K       589\n",
       "                  >50K        371\n",
       "Local-gov         <=50K      1476\n",
       "                  >50K        617\n",
       "Never-worked      <=50K         7\n",
       "Private           <=50K     17712\n",
       "                  >50K       4961\n",
       "Self-emp-inc      <=50K       494\n",
       "                  >50K        622\n",
       "Self-emp-not-inc  <=50K      1816\n",
       "                  >50K        724\n",
       "State-gov         <=50K       945\n",
       "                  >50K        353\n",
       "Without-pay       <=50K        14\n",
       "dtype: int64"
      ]
     },
     "execution_count": 19,
     "metadata": {},
     "output_type": "execute_result"
    }
   ],
   "source": [
    "census_data.groupby(['workclass', 'income']).size()"
   ]
  },
  {
   "cell_type": "markdown",
   "id": "9b78cc30-9f24-4ef2-844a-6ca0c6780387",
   "metadata": {
    "tags": []
   },
   "source": [
    "Логично, что те, кто не работают или без оплаты, не могут получать больше 50к в год.\n",
    "Если посмотреть на сектор \"Private\", который представляет большинство людей, то там количество зарабатывающих больше 50к примерно в 3 раза меньше остальных этого же сектора. В \"Self-emp-inc\" люди скорее зарабатывают больше 50к."
   ]
  },
  {
   "cell_type": "markdown",
   "id": "7075d385-ad14-4175-866d-f9058229518c",
   "metadata": {
    "tags": []
   },
   "source": [
    "### Education"
   ]
  },
  {
   "cell_type": "code",
   "execution_count": 20,
   "id": "accae3d3-cf54-4788-9251-d98ad34c5f31",
   "metadata": {},
   "outputs": [
    {
     "data": {
      "text/plain": [
       "<AxesSubplot:xlabel='education', ylabel='Count'>"
      ]
     },
     "execution_count": 20,
     "metadata": {},
     "output_type": "execute_result"
    },
    {
     "data": {
      "image/png": "[encoded data removed]",
      "text/plain": [
       "<Figure size 1800x720 with 1 Axes>"
      ]
     },
     "metadata": {
      "needs_background": "light"
     },
     "output_type": "display_data"
    }
   ],
   "source": [
    "plt.figure(figsize = (25, 10))\n",
    "sns.histplot(data = census_data, x = 'education')"
   ]
  },
  {
   "cell_type": "code",
   "execution_count": 21,
   "id": "ecc63ae4-c30d-432a-852b-7399dc7b3b76",
   "metadata": {},
   "outputs": [
    {
     "data": {
      "text/plain": [
       "HS-grad         10494\n",
       "Some-college     7282\n",
       "Bachelors        5353\n",
       "Masters          1722\n",
       "Assoc-voc        1382\n",
       "11th             1175\n",
       "Assoc-acdm       1067\n",
       "10th              933\n",
       "7th-8th           645\n",
       "Prof-school       576\n",
       "9th               514\n",
       "12th              433\n",
       "Doctorate         413\n",
       "5th-6th           332\n",
       "1st-4th           166\n",
       "Preschool          50\n",
       "Name: education, dtype: int64"
      ]
     },
     "execution_count": 21,
     "metadata": {},
     "output_type": "execute_result"
    }
   ],
   "source": [
    "census_data['education'].value_counts()"
   ]
  },
  {
   "cell_type": "markdown",
   "id": "47540267-df84-4240-bb51-577e277f0d18",
   "metadata": {},
   "source": [
    "График показывает, что большинство людей закончили старшую школу, посещали колледж или имеют степень бакалавра."
   ]
  },
  {
   "cell_type": "code",
   "execution_count": 22,
   "id": "4e40b87e-3c31-4f94-a99e-abe64a532445",
   "metadata": {},
   "outputs": [
    {
     "data": {
      "text/plain": [
       "education     income\n",
       "10th          <=50K      871\n",
       "              >50K        62\n",
       "11th          <=50K     1115\n",
       "              >50K        60\n",
       "12th          <=50K      400\n",
       "              >50K        33\n",
       "1st-4th       <=50K      160\n",
       "              >50K         6\n",
       "5th-6th       <=50K      316\n",
       "              >50K        16\n",
       "7th-8th       <=50K      605\n",
       "              >50K        40\n",
       "9th           <=50K      487\n",
       "              >50K        27\n",
       "Assoc-acdm    <=50K      802\n",
       "              >50K       265\n",
       "Assoc-voc     <=50K     1021\n",
       "              >50K       361\n",
       "Bachelors     <=50K     3132\n",
       "              >50K      2221\n",
       "Doctorate     <=50K      107\n",
       "              >50K       306\n",
       "HS-grad       <=50K     8820\n",
       "              >50K      1674\n",
       "Masters       <=50K      763\n",
       "              >50K       959\n",
       "Preschool     <=50K       50\n",
       "Prof-school   <=50K      153\n",
       "              >50K       423\n",
       "Some-college  <=50K     5896\n",
       "              >50K      1386\n",
       "dtype: int64"
      ]
     },
     "execution_count": 22,
     "metadata": {},
     "output_type": "execute_result"
    }
   ],
   "source": [
    "census_data.groupby(['education', 'income']).size()"
   ]
  },
  {
   "cell_type": "markdown",
   "id": "8a7fea74-a827-43b5-9462-ffd7668fca78",
   "metadata": {},
   "source": [
    "У кого низкий уровень обучения получают скорее всего меньше 50к, но есть и исключения. Они либо занимались сами, либо через свой опыт.\n",
    "У тех, кто имеет степень бакалавра, есть небольшой разрыв в границе заработка. Это скорее всего из-за того, что бакалавра можно получить в разных сферах, а также есть человеческий фактор. Люди с высоким уровнем обучения чаще имеют больше 50к. Те, у кого прешкольное образование, не получают больше 50к вообще."
   ]
  },
  {
   "cell_type": "code",
   "execution_count": 23,
   "id": "045698dc-5178-43a8-a53d-f8ed1f85a792",
   "metadata": {},
   "outputs": [
    {
     "data": {
      "text/plain": [
       "education     workclass       \n",
       "10th          ?                    100\n",
       "              Federal-gov            6\n",
       "              Local-gov             31\n",
       "              Never-worked           2\n",
       "              Private              695\n",
       "              Self-emp-inc          19\n",
       "              Self-emp-not-inc      67\n",
       "              State-gov             13\n",
       "11th          ?                    118\n",
       "              Federal-gov            9\n",
       "              Local-gov             36\n",
       "              Never-worked           1\n",
       "              Private              923\n",
       "              Self-emp-inc          14\n",
       "              Self-emp-not-inc      60\n",
       "              State-gov             14\n",
       "12th          ?                     40\n",
       "              Federal-gov            5\n",
       "              Local-gov             19\n",
       "              Private              333\n",
       "              Self-emp-inc           7\n",
       "              Self-emp-not-inc      19\n",
       "              State-gov             10\n",
       "1st-4th       ?                     12\n",
       "              Local-gov              4\n",
       "              Private              134\n",
       "              Self-emp-inc           2\n",
       "              Self-emp-not-inc      13\n",
       "              State-gov              1\n",
       "5th-6th       ?                     30\n",
       "              Federal-gov            1\n",
       "              Local-gov              9\n",
       "              Private              265\n",
       "              Self-emp-inc           4\n",
       "              Self-emp-not-inc      19\n",
       "              State-gov              4\n",
       "7th-8th       ?                     72\n",
       "              Federal-gov            2\n",
       "              Local-gov             28\n",
       "              Never-worked           1\n",
       "              Private              423\n",
       "              Self-emp-inc          14\n",
       "              Self-emp-not-inc      94\n",
       "              State-gov             10\n",
       "              Without-pay            1\n",
       "9th           ?                     51\n",
       "              Federal-gov            3\n",
       "              Local-gov             23\n",
       "              Private              387\n",
       "              Self-emp-inc          10\n",
       "              Self-emp-not-inc      34\n",
       "              State-gov              6\n",
       "Assoc-acdm    ?                     47\n",
       "              Federal-gov           55\n",
       "              Local-gov             88\n",
       "              Private              729\n",
       "              Self-emp-inc          35\n",
       "              Self-emp-not-inc      71\n",
       "              State-gov             41\n",
       "              Without-pay            1\n",
       "Assoc-voc     ?                     61\n",
       "              Federal-gov           38\n",
       "              Local-gov             86\n",
       "              Private             1005\n",
       "              Self-emp-inc          38\n",
       "              Self-emp-not-inc     108\n",
       "              State-gov             46\n",
       "Bachelors     ?                    173\n",
       "              Federal-gov          212\n",
       "              Local-gov            477\n",
       "              Private             3549\n",
       "              Self-emp-inc         273\n",
       "              Self-emp-not-inc     399\n",
       "              State-gov            270\n",
       "Doctorate     ?                     15\n",
       "              Federal-gov           16\n",
       "              Local-gov             27\n",
       "              Private              181\n",
       "              Self-emp-inc          35\n",
       "              Self-emp-not-inc      50\n",
       "              State-gov             89\n",
       "HS-grad       ?                    532\n",
       "              Federal-gov          263\n",
       "              Local-gov            503\n",
       "              Never-worked           1\n",
       "              Private             7773\n",
       "              Self-emp-inc         279\n",
       "              Self-emp-not-inc     866\n",
       "              State-gov            268\n",
       "              Without-pay            9\n",
       "Masters       ?                     48\n",
       "              Federal-gov           67\n",
       "              Local-gov            342\n",
       "              Private              893\n",
       "              Self-emp-inc          79\n",
       "              Self-emp-not-inc     124\n",
       "              State-gov            169\n",
       "Preschool     ?                      5\n",
       "              Local-gov              4\n",
       "              Private               40\n",
       "              State-gov              1\n",
       "Prof-school   ?                     18\n",
       "              Federal-gov           29\n",
       "              Local-gov             29\n",
       "              Private              257\n",
       "              Self-emp-inc          81\n",
       "              Self-emp-not-inc     131\n",
       "              State-gov             31\n",
       "Some-college  ?                    514\n",
       "              Federal-gov          254\n",
       "              Local-gov            387\n",
       "              Never-worked           2\n",
       "              Private             5086\n",
       "              Self-emp-inc         226\n",
       "              Self-emp-not-inc     485\n",
       "              State-gov            325\n",
       "              Without-pay            3\n",
       "dtype: int64"
      ]
     },
     "execution_count": 23,
     "metadata": {},
     "output_type": "execute_result"
    }
   ],
   "source": [
    "census_data.groupby(['education', 'workclass']).size()"
   ]
  },
  {
   "cell_type": "markdown",
   "id": "9baabe63-1e61-452f-bdbc-8e9cdb603cf8",
   "metadata": {},
   "source": [
    "Можно заметить, что несмотря на уровень образования, везде пробладает \"private\" сектор. \n",
    "Те, кто никогда не работал, с вероятностью наполовину не закончили обучение в каком-то классе. \n",
    "Те, кто работает без оплаты, скорее всего - старшую школу или колледж."
   ]
  },
  {
   "cell_type": "markdown",
   "id": "5e2e5d92-ae28-4381-aee6-00a4123e51ad",
   "metadata": {
    "tags": []
   },
   "source": [
    "### Marital status"
   ]
  },
  {
   "cell_type": "code",
   "execution_count": 24,
   "id": "02023e11-f1c9-4a31-ad23-0ac52de4cf34",
   "metadata": {},
   "outputs": [
    {
     "data": {
      "text/plain": [
       "<AxesSubplot:xlabel='marital.status', ylabel='Count'>"
      ]
     },
     "execution_count": 24,
     "metadata": {},
     "output_type": "execute_result"
    },
    {
     "data": {
      "image/png": "[encoded data removed]",
      "text/plain": [
       "<Figure size 1080x720 with 1 Axes>"
      ]
     },
     "metadata": {
      "needs_background": "light"
     },
     "output_type": "display_data"
    }
   ],
   "source": [
    "plt.figure(figsize = (15, 10))\n",
    "sns.histplot(data = census_data, x = 'marital.status')"
   ]
  },
  {
   "cell_type": "code",
   "execution_count": 25,
   "id": "8faa7095-7828-49a6-a11e-77496a7a9f08",
   "metadata": {},
   "outputs": [
    {
     "data": {
      "text/plain": [
       "Married-civ-spouse       14970\n",
       "Never-married            10667\n",
       "Divorced                  4441\n",
       "Separated                 1025\n",
       "Widowed                    993\n",
       "Married-spouse-absent      418\n",
       "Married-AF-spouse           23\n",
       "Name: marital.status, dtype: int64"
      ]
     },
     "execution_count": 25,
     "metadata": {},
     "output_type": "execute_result"
    }
   ],
   "source": [
    "census_data['marital.status'].value_counts()"
   ]
  },
  {
   "cell_type": "markdown",
   "id": "1d9cedbe-b107-4028-9628-d4caa3abd458",
   "metadata": {},
   "source": [
    "Самое большой показатель у женатых на гражданском. На треть меньше идут те, кто никогда не женился, а еще на треть меньше те, кто сейчас разведен."
   ]
  },
  {
   "cell_type": "code",
   "execution_count": 26,
   "id": "b9bb257b-0ab6-4af1-a197-129463e9e1f9",
   "metadata": {},
   "outputs": [
    {
     "data": {
      "text/plain": [
       "marital.status         income\n",
       "Divorced               <=50K      3978\n",
       "                       >50K        463\n",
       "Married-AF-spouse      <=50K        13\n",
       "                       >50K         10\n",
       "Married-civ-spouse     <=50K      8280\n",
       "                       >50K       6690\n",
       "Married-spouse-absent  <=50K       384\n",
       "                       >50K         34\n",
       "Never-married          <=50K     10176\n",
       "                       >50K        491\n",
       "Separated              <=50K       959\n",
       "                       >50K         66\n",
       "Widowed                <=50K       908\n",
       "                       >50K         85\n",
       "dtype: int64"
      ]
     },
     "execution_count": 26,
     "metadata": {},
     "output_type": "execute_result"
    }
   ],
   "source": [
    "census_data.groupby(['marital.status', 'income']).size()"
   ]
  },
  {
   "cell_type": "markdown",
   "id": "6ce2ea3c-af02-400c-8d32-bb1a66027897",
   "metadata": {},
   "source": [
    "Те, кто состоят в браке с гражданским, имеют небольшой разрыв в границе заработка. \n",
    "Но есть значительное отличие у тех, кто никогда не женился."
   ]
  },
  {
   "cell_type": "code",
   "execution_count": 27,
   "id": "409df8f4-3b78-494a-9aa2-9d66170c52c2",
   "metadata": {},
   "outputs": [
    {
     "data": {
      "text/plain": [
       "<AxesSubplot:xlabel='marital.status', ylabel='age'>"
      ]
     },
     "execution_count": 27,
     "metadata": {},
     "output_type": "execute_result"
    },
    {
     "data": {
      "image/png": "[encoded data removed]",
      "text/plain": [
       "<Figure size 1080x720 with 1 Axes>"
      ]
     },
     "metadata": {
      "needs_background": "light"
     },
     "output_type": "display_data"
    }
   ],
   "source": [
    "plt.figure(figsize = (15, 10))\n",
    "sns.violinplot(data = census_data, x = 'marital.status', y = 'age')"
   ]
  },
  {
   "cell_type": "markdown",
   "id": "f38b0a73-c965-4576-b4ee-321341dcf0d0",
   "metadata": {},
   "source": [
    "Те, кто никогда не женился, обычно являются молодыми людьми, поэтому и могут получать меньше старшего поколения."
   ]
  },
  {
   "cell_type": "markdown",
   "id": "70d8f79b-438b-4b64-9f9c-0b47cef39869",
   "metadata": {
    "tags": []
   },
   "source": [
    "### Ocupation"
   ]
  },
  {
   "cell_type": "code",
   "execution_count": 28,
   "id": "f15850fa-5237-4ba8-886d-6d9e2144e76d",
   "metadata": {
    "tags": []
   },
   "outputs": [
    {
     "data": {
      "text/plain": [
       "<AxesSubplot:xlabel='occupation', ylabel='Count'>"
      ]
     },
     "execution_count": 28,
     "metadata": {},
     "output_type": "execute_result"
    },
    {
     "data": {
      "image/png": "[encoded data removed]",
      "text/plain": [
       "<Figure size 2160x1080 with 1 Axes>"
      ]
     },
     "metadata": {
      "needs_background": "light"
     },
     "output_type": "display_data"
    }
   ],
   "source": [
    "plt.figure(figsize = (30, 15))\n",
    "sns.histplot(data = census_data, x = 'occupation')"
   ]
  },
  {
   "cell_type": "code",
   "execution_count": 29,
   "id": "e3031153-cf86-40b9-a23e-bd2e7c7886da",
   "metadata": {},
   "outputs": [
    {
     "data": {
      "text/plain": [
       "Prof-specialty       4136\n",
       "Craft-repair         4094\n",
       "Exec-managerial      4065\n",
       "Adm-clerical         3768\n",
       "Sales                3650\n",
       "Other-service        3291\n",
       "Machine-op-inspct    2000\n",
       "?                    1843\n",
       "Transport-moving     1597\n",
       "Handlers-cleaners    1369\n",
       "Farming-fishing       992\n",
       "Tech-support          927\n",
       "Protective-serv       649\n",
       "Priv-house-serv       147\n",
       "Armed-Forces            9\n",
       "Name: occupation, dtype: int64"
      ]
     },
     "execution_count": 29,
     "metadata": {},
     "output_type": "execute_result"
    }
   ],
   "source": [
    "census_data['occupation'].value_counts()"
   ]
  },
  {
   "cell_type": "markdown",
   "id": "15f93341-a59a-46fb-81df-f72089a586b6",
   "metadata": {},
   "source": [
    "Здесь нет какого-то определенного значения, которое стояло бы выше других, поэтому надо посмотреть зависимость с другими колонками."
   ]
  },
  {
   "cell_type": "code",
   "execution_count": 30,
   "id": "6d043243-bb8f-4ffe-9617-17abd6188cde",
   "metadata": {},
   "outputs": [
    {
     "data": {
      "text/plain": [
       "occupation         income\n",
       "?                  <=50K     1652\n",
       "                   >50K       191\n",
       "Adm-clerical       <=50K     3261\n",
       "                   >50K       507\n",
       "Armed-Forces       <=50K        8\n",
       "                   >50K         1\n",
       "Craft-repair       <=50K     3165\n",
       "                   >50K       929\n",
       "Exec-managerial    <=50K     2097\n",
       "                   >50K      1968\n",
       "Farming-fishing    <=50K      877\n",
       "                   >50K       115\n",
       "Handlers-cleaners  <=50K     1283\n",
       "                   >50K        86\n",
       "Machine-op-inspct  <=50K     1751\n",
       "                   >50K       249\n",
       "Other-service      <=50K     3154\n",
       "                   >50K       137\n",
       "Priv-house-serv    <=50K      146\n",
       "                   >50K         1\n",
       "Prof-specialty     <=50K     2278\n",
       "                   >50K      1858\n",
       "Protective-serv    <=50K      438\n",
       "                   >50K       211\n",
       "Sales              <=50K     2667\n",
       "                   >50K       983\n",
       "Tech-support       <=50K      644\n",
       "                   >50K       283\n",
       "Transport-moving   <=50K     1277\n",
       "                   >50K       320\n",
       "dtype: int64"
      ]
     },
     "execution_count": 30,
     "metadata": {},
     "output_type": "execute_result"
    }
   ],
   "source": [
    "census_data.groupby(['occupation', 'income']).size()"
   ]
  },
  {
   "cell_type": "markdown",
   "id": "1a136d4c-dc4b-4a1c-8ec0-40a0c6660603",
   "metadata": {},
   "source": [
    "Хорошие показатели заработка у тех, кто работает выполняющим менеджером или имеет профессиональную специалность.\n",
    "Огромные отличия видны у клинеров и тех, кто следит за домом."
   ]
  },
  {
   "cell_type": "code",
   "execution_count": 31,
   "id": "a56f3cec-a2e3-4a2c-b45c-479c7e96da3d",
   "metadata": {},
   "outputs": [
    {
     "data": {
      "text/plain": [
       "occupation         education   \n",
       "?                  10th             102\n",
       "                   11th             119\n",
       "                   12th              40\n",
       "                   1st-4th           12\n",
       "                   5th-6th           30\n",
       "                   7th-8th           73\n",
       "                   9th               51\n",
       "                   Assoc-acdm        47\n",
       "                   Assoc-voc         61\n",
       "                   Bachelors        173\n",
       "                   Doctorate         15\n",
       "                   HS-grad          533\n",
       "                   Masters           48\n",
       "                   Preschool          5\n",
       "                   Prof-school       18\n",
       "                   Some-college     516\n",
       "Adm-clerical       10th              38\n",
       "                   11th              67\n",
       "                   12th              38\n",
       "                   5th-6th            6\n",
       "                   7th-8th           11\n",
       "                   9th               14\n",
       "                   Assoc-acdm       193\n",
       "                   Assoc-voc        167\n",
       "                   Bachelors        506\n",
       "                   Doctorate          5\n",
       "                   HS-grad         1365\n",
       "                   Masters           68\n",
       "                   Preschool          2\n",
       "                   Prof-school        9\n",
       "                   Some-college    1279\n",
       "Armed-Forces       12th               1\n",
       "                   Bachelors          1\n",
       "                   HS-grad            4\n",
       "                   Masters            1\n",
       "                   Some-college       2\n",
       "Craft-repair       10th             170\n",
       "                   11th             175\n",
       "                   12th              58\n",
       "                   1st-4th           23\n",
       "                   5th-6th           43\n",
       "                   7th-8th          115\n",
       "                   9th               96\n",
       "                   Assoc-acdm       115\n",
       "                   Assoc-voc        252\n",
       "                   Bachelors        225\n",
       "                   Doctorate          2\n",
       "                   HS-grad         1920\n",
       "                   Masters           22\n",
       "                   Preschool          4\n",
       "                   Prof-school        7\n",
       "                   Some-college     867\n",
       "Exec-managerial    10th              24\n",
       "                   11th              34\n",
       "                   12th              13\n",
       "                   1st-4th            4\n",
       "                   5th-6th            1\n",
       "                   7th-8th           19\n",
       "                   9th               13\n",
       "                   Assoc-acdm       145\n",
       "                   Assoc-voc        150\n",
       "                   Bachelors       1369\n",
       "                   Doctorate         55\n",
       "                   HS-grad          807\n",
       "                   Masters          501\n",
       "                   Prof-school       52\n",
       "                   Some-college     878\n",
       "Farming-fishing    10th              44\n",
       "                   11th              37\n",
       "                   12th              16\n",
       "                   1st-4th           18\n",
       "                   5th-6th           36\n",
       "                   7th-8th           70\n",
       "                   9th               28\n",
       "                   Assoc-acdm        14\n",
       "                   Assoc-voc         52\n",
       "                   Bachelors         77\n",
       "                   Doctorate          1\n",
       "                   HS-grad          403\n",
       "                   Masters           10\n",
       "                   Preschool          8\n",
       "                   Prof-school        4\n",
       "                   Some-college     174\n",
       "Handlers-cleaners  10th              71\n",
       "                   11th             123\n",
       "                   12th              38\n",
       "                   1st-4th           16\n",
       "                   5th-6th           39\n",
       "                   7th-8th           46\n",
       "                   9th               49\n",
       "                   Assoc-acdm        24\n",
       "                   Assoc-voc         28\n",
       "                   Bachelors         50\n",
       "                   HS-grad          611\n",
       "                   Masters            5\n",
       "                   Preschool          2\n",
       "                   Some-college     267\n",
       "Machine-op-inspct  10th             101\n",
       "                   11th              99\n",
       "                   12th              35\n",
       "                   1st-4th           23\n",
       "                   5th-6th           56\n",
       "                   7th-8th           93\n",
       "                   9th               76\n",
       "                   Assoc-acdm        33\n",
       "                   Assoc-voc         63\n",
       "                   Bachelors         69\n",
       "                   Doctorate          1\n",
       "                   HS-grad         1021\n",
       "                   Masters            8\n",
       "                   Preschool         11\n",
       "                   Prof-school        1\n",
       "                   Some-college     310\n",
       "Other-service      10th             194\n",
       "                   11th             238\n",
       "                   12th              85\n",
       "                   1st-4th           40\n",
       "                   5th-6th           64\n",
       "                   7th-8th           98\n",
       "                   9th              101\n",
       "                   Assoc-acdm        78\n",
       "                   Assoc-voc        115\n",
       "                   Bachelors        181\n",
       "                   Doctorate          1\n",
       "                   HS-grad         1279\n",
       "                   Masters           19\n",
       "                   Preschool         15\n",
       "                   Prof-school        4\n",
       "                   Some-college     779\n",
       "Priv-house-serv    10th               6\n",
       "                   11th              14\n",
       "                   12th               4\n",
       "                   1st-4th            9\n",
       "                   5th-6th           14\n",
       "                   7th-8th            8\n",
       "                   9th               10\n",
       "                   Assoc-acdm         2\n",
       "                   Assoc-voc          4\n",
       "                   Bachelors          7\n",
       "                   HS-grad           50\n",
       "                   Masters            1\n",
       "                   Preschool          2\n",
       "                   Some-college      16\n",
       "Prof-specialty     10th               9\n",
       "                   11th              20\n",
       "                   12th              10\n",
       "                   1st-4th            4\n",
       "                   5th-6th            1\n",
       "                   7th-8th            9\n",
       "                   9th                3\n",
       "                   Assoc-acdm       138\n",
       "                   Assoc-voc        170\n",
       "                   Bachelors       1494\n",
       "                   Doctorate        321\n",
       "                   HS-grad          233\n",
       "                   Masters          843\n",
       "                   Preschool          1\n",
       "                   Prof-school      452\n",
       "                   Some-college     428\n",
       "Protective-serv    10th               6\n",
       "                   11th               7\n",
       "                   12th               6\n",
       "                   1st-4th            1\n",
       "                   5th-6th            1\n",
       "                   7th-8th            9\n",
       "                   9th                4\n",
       "                   Assoc-acdm        34\n",
       "                   Assoc-voc         48\n",
       "                   Bachelors        100\n",
       "                   HS-grad          215\n",
       "                   Masters           15\n",
       "                   Prof-school        1\n",
       "                   Some-college     202\n",
       "Sales              10th              81\n",
       "                   11th             144\n",
       "                   12th              47\n",
       "                   1st-4th            8\n",
       "                   5th-6th           12\n",
       "                   7th-8th           29\n",
       "                   9th               32\n",
       "                   Assoc-acdm       144\n",
       "                   Assoc-voc        106\n",
       "                   Bachelors        809\n",
       "                   Doctorate          8\n",
       "                   HS-grad         1069\n",
       "                   Masters          134\n",
       "                   Prof-school       18\n",
       "                   Some-college    1009\n",
       "Tech-support       10th               3\n",
       "                   11th               6\n",
       "                   12th               3\n",
       "                   5th-6th            1\n",
       "                   7th-8th            5\n",
       "                   9th                2\n",
       "                   Assoc-acdm        73\n",
       "                   Assoc-voc        126\n",
       "                   Bachelors        230\n",
       "                   Doctorate          3\n",
       "                   HS-grad          159\n",
       "                   Masters           37\n",
       "                   Prof-school        7\n",
       "                   Some-college     272\n",
       "Transport-moving   10th              84\n",
       "                   11th              92\n",
       "                   12th              39\n",
       "                   1st-4th            8\n",
       "                   5th-6th           28\n",
       "                   7th-8th           60\n",
       "                   9th               35\n",
       "                   Assoc-acdm        27\n",
       "                   Assoc-voc         40\n",
       "                   Bachelors         62\n",
       "                   Doctorate          1\n",
       "                   HS-grad          825\n",
       "                   Masters           10\n",
       "                   Prof-school        3\n",
       "                   Some-college     283\n",
       "dtype: int64"
      ]
     },
     "execution_count": 31,
     "metadata": {},
     "output_type": "execute_result"
    }
   ],
   "source": [
    "census_data.groupby(['occupation', 'education']).size()"
   ]
  },
  {
   "cell_type": "code",
   "execution_count": 32,
   "id": "dce8e607-ec79-4dda-999f-4c4a8abea891",
   "metadata": {},
   "outputs": [
    {
     "data": {
      "text/html": [
       "<div>\n",
       "<style scoped>\n",
       "    .dataframe tbody tr th:only-of-type {\n",
       "        vertical-align: middle;\n",
       "    }\n",
       "\n",
       "    .dataframe tbody tr th {\n",
       "        vertical-align: top;\n",
       "    }\n",
       "\n",
       "    .dataframe thead th {\n",
       "        text-align: right;\n",
       "    }\n",
       "</style>\n",
       "<table border=\"1\" class=\"dataframe\">\n",
       "  <thead>\n",
       "    <tr style=\"text-align: right;\">\n",
       "      <th></th>\n",
       "      <th>count</th>\n",
       "      <th>mean</th>\n",
       "      <th>std</th>\n",
       "      <th>min</th>\n",
       "      <th>25%</th>\n",
       "      <th>50%</th>\n",
       "      <th>75%</th>\n",
       "      <th>max</th>\n",
       "    </tr>\n",
       "    <tr>\n",
       "      <th>occupation</th>\n",
       "      <th></th>\n",
       "      <th></th>\n",
       "      <th></th>\n",
       "      <th></th>\n",
       "      <th></th>\n",
       "      <th></th>\n",
       "      <th></th>\n",
       "      <th></th>\n",
       "    </tr>\n",
       "  </thead>\n",
       "  <tbody>\n",
       "    <tr>\n",
       "      <th>?</th>\n",
       "      <td>1843.0</td>\n",
       "      <td>9.253391</td>\n",
       "      <td>2.602791</td>\n",
       "      <td>1.0</td>\n",
       "      <td>9.0</td>\n",
       "      <td>9.0</td>\n",
       "      <td>10.0</td>\n",
       "      <td>16.0</td>\n",
       "    </tr>\n",
       "    <tr>\n",
       "      <th>Adm-clerical</th>\n",
       "      <td>3768.0</td>\n",
       "      <td>10.113588</td>\n",
       "      <td>1.698497</td>\n",
       "      <td>1.0</td>\n",
       "      <td>9.0</td>\n",
       "      <td>10.0</td>\n",
       "      <td>11.0</td>\n",
       "      <td>16.0</td>\n",
       "    </tr>\n",
       "    <tr>\n",
       "      <th>Armed-Forces</th>\n",
       "      <td>9.0</td>\n",
       "      <td>10.111111</td>\n",
       "      <td>2.027588</td>\n",
       "      <td>8.0</td>\n",
       "      <td>9.0</td>\n",
       "      <td>9.0</td>\n",
       "      <td>10.0</td>\n",
       "      <td>14.0</td>\n",
       "    </tr>\n",
       "    <tr>\n",
       "      <th>Craft-repair</th>\n",
       "      <td>4094.0</td>\n",
       "      <td>9.110894</td>\n",
       "      <td>2.037377</td>\n",
       "      <td>1.0</td>\n",
       "      <td>9.0</td>\n",
       "      <td>9.0</td>\n",
       "      <td>10.0</td>\n",
       "      <td>16.0</td>\n",
       "    </tr>\n",
       "    <tr>\n",
       "      <th>Exec-managerial</th>\n",
       "      <td>4065.0</td>\n",
       "      <td>11.449446</td>\n",
       "      <td>2.143353</td>\n",
       "      <td>2.0</td>\n",
       "      <td>10.0</td>\n",
       "      <td>12.0</td>\n",
       "      <td>13.0</td>\n",
       "      <td>16.0</td>\n",
       "    </tr>\n",
       "    <tr>\n",
       "      <th>Farming-fishing</th>\n",
       "      <td>992.0</td>\n",
       "      <td>8.615927</td>\n",
       "      <td>2.748207</td>\n",
       "      <td>1.0</td>\n",
       "      <td>8.0</td>\n",
       "      <td>9.0</td>\n",
       "      <td>10.0</td>\n",
       "      <td>16.0</td>\n",
       "    </tr>\n",
       "    <tr>\n",
       "      <th>Handlers-cleaners</th>\n",
       "      <td>1369.0</td>\n",
       "      <td>8.514244</td>\n",
       "      <td>2.199145</td>\n",
       "      <td>1.0</td>\n",
       "      <td>7.0</td>\n",
       "      <td>9.0</td>\n",
       "      <td>10.0</td>\n",
       "      <td>14.0</td>\n",
       "    </tr>\n",
       "    <tr>\n",
       "      <th>Machine-op-inspct</th>\n",
       "      <td>2000.0</td>\n",
       "      <td>8.487000</td>\n",
       "      <td>2.286361</td>\n",
       "      <td>1.0</td>\n",
       "      <td>9.0</td>\n",
       "      <td>9.0</td>\n",
       "      <td>9.0</td>\n",
       "      <td>16.0</td>\n",
       "    </tr>\n",
       "    <tr>\n",
       "      <th>Other-service</th>\n",
       "      <td>3291.0</td>\n",
       "      <td>8.778791</td>\n",
       "      <td>2.300850</td>\n",
       "      <td>1.0</td>\n",
       "      <td>8.0</td>\n",
       "      <td>9.0</td>\n",
       "      <td>10.0</td>\n",
       "      <td>16.0</td>\n",
       "    </tr>\n",
       "    <tr>\n",
       "      <th>Priv-house-serv</th>\n",
       "      <td>147.0</td>\n",
       "      <td>7.435374</td>\n",
       "      <td>3.067881</td>\n",
       "      <td>1.0</td>\n",
       "      <td>5.0</td>\n",
       "      <td>9.0</td>\n",
       "      <td>9.0</td>\n",
       "      <td>14.0</td>\n",
       "    </tr>\n",
       "    <tr>\n",
       "      <th>Prof-specialty</th>\n",
       "      <td>4136.0</td>\n",
       "      <td>12.906190</td>\n",
       "      <td>2.025329</td>\n",
       "      <td>1.0</td>\n",
       "      <td>13.0</td>\n",
       "      <td>13.0</td>\n",
       "      <td>14.0</td>\n",
       "      <td>16.0</td>\n",
       "    </tr>\n",
       "    <tr>\n",
       "      <th>Protective-serv</th>\n",
       "      <td>649.0</td>\n",
       "      <td>10.184900</td>\n",
       "      <td>1.868275</td>\n",
       "      <td>2.0</td>\n",
       "      <td>9.0</td>\n",
       "      <td>10.0</td>\n",
       "      <td>11.0</td>\n",
       "      <td>15.0</td>\n",
       "    </tr>\n",
       "    <tr>\n",
       "      <th>Sales</th>\n",
       "      <td>3650.0</td>\n",
       "      <td>10.299726</td>\n",
       "      <td>2.178025</td>\n",
       "      <td>2.0</td>\n",
       "      <td>9.0</td>\n",
       "      <td>10.0</td>\n",
       "      <td>13.0</td>\n",
       "      <td>16.0</td>\n",
       "    </tr>\n",
       "    <tr>\n",
       "      <th>Tech-support</th>\n",
       "      <td>927.0</td>\n",
       "      <td>10.993528</td>\n",
       "      <td>1.799916</td>\n",
       "      <td>3.0</td>\n",
       "      <td>10.0</td>\n",
       "      <td>11.0</td>\n",
       "      <td>13.0</td>\n",
       "      <td>16.0</td>\n",
       "    </tr>\n",
       "    <tr>\n",
       "      <th>Transport-moving</th>\n",
       "      <td>1597.0</td>\n",
       "      <td>8.767063</td>\n",
       "      <td>2.036839</td>\n",
       "      <td>2.0</td>\n",
       "      <td>9.0</td>\n",
       "      <td>9.0</td>\n",
       "      <td>10.0</td>\n",
       "      <td>16.0</td>\n",
       "    </tr>\n",
       "  </tbody>\n",
       "</table>\n",
       "</div>"
      ],
      "text/plain": [
       "                    count       mean       std  min   25%   50%   75%   max\n",
       "occupation                                                                 \n",
       "?                  1843.0   9.253391  2.602791  1.0   9.0   9.0  10.0  16.0\n",
       "Adm-clerical       3768.0  10.113588  1.698497  1.0   9.0  10.0  11.0  16.0\n",
       "Armed-Forces          9.0  10.111111  2.027588  8.0   9.0   9.0  10.0  14.0\n",
       "Craft-repair       4094.0   9.110894  2.037377  1.0   9.0   9.0  10.0  16.0\n",
       "Exec-managerial    4065.0  11.449446  2.143353  2.0  10.0  12.0  13.0  16.0\n",
       "Farming-fishing     992.0   8.615927  2.748207  1.0   8.0   9.0  10.0  16.0\n",
       "Handlers-cleaners  1369.0   8.514244  2.199145  1.0   7.0   9.0  10.0  14.0\n",
       "Machine-op-inspct  2000.0   8.487000  2.286361  1.0   9.0   9.0   9.0  16.0\n",
       "Other-service      3291.0   8.778791  2.300850  1.0   8.0   9.0  10.0  16.0\n",
       "Priv-house-serv     147.0   7.435374  3.067881  1.0   5.0   9.0   9.0  14.0\n",
       "Prof-specialty     4136.0  12.906190  2.025329  1.0  13.0  13.0  14.0  16.0\n",
       "Protective-serv     649.0  10.184900  1.868275  2.0   9.0  10.0  11.0  15.0\n",
       "Sales              3650.0  10.299726  2.178025  2.0   9.0  10.0  13.0  16.0\n",
       "Tech-support        927.0  10.993528  1.799916  3.0  10.0  11.0  13.0  16.0\n",
       "Transport-moving   1597.0   8.767063  2.036839  2.0   9.0   9.0  10.0  16.0"
      ]
     },
     "execution_count": 32,
     "metadata": {},
     "output_type": "execute_result"
    }
   ],
   "source": [
    "census_data.groupby(['occupation'])['education.num'].describe()"
   ]
  },
  {
   "cell_type": "markdown",
   "id": "d587b9a9-f140-494a-a5e5-388a84a7f535",
   "metadata": {},
   "source": [
    "Из интересного видно то, что в \"Prof-speciality\" собралось больше всего людей с высоким уровнем образования, а потом уже идут выполняющие обязанности менеджера и тех поддержка.\n",
    "Меньше всего уровень образования в присмотре за домом."
   ]
  },
  {
   "cell_type": "code",
   "execution_count": 33,
   "id": "b231c88e-43c2-4785-906d-b76f9bd20992",
   "metadata": {},
   "outputs": [
    {
     "data": {
      "text/plain": [
       "occupation         workclass       \n",
       "?                  ?                   1836\n",
       "                   Never-worked           7\n",
       "Adm-clerical       Federal-gov          317\n",
       "                   Local-gov            283\n",
       "                   Private             2831\n",
       "                   Self-emp-inc          31\n",
       "                   Self-emp-not-inc      50\n",
       "                   State-gov            253\n",
       "                   Without-pay            3\n",
       "Armed-Forces       Federal-gov            9\n",
       "Craft-repair       Federal-gov           64\n",
       "                   Local-gov            146\n",
       "                   Private             3191\n",
       "                   Self-emp-inc         106\n",
       "                   Self-emp-not-inc     530\n",
       "                   State-gov             56\n",
       "                   Without-pay            1\n",
       "Exec-managerial    Federal-gov          180\n",
       "                   Local-gov            214\n",
       "                   Private             2690\n",
       "                   Self-emp-inc         400\n",
       "                   Self-emp-not-inc     392\n",
       "                   State-gov            189\n",
       "Farming-fishing    Federal-gov            8\n",
       "                   Local-gov             29\n",
       "                   Private              453\n",
       "                   Self-emp-inc          51\n",
       "                   Self-emp-not-inc     430\n",
       "                   State-gov             15\n",
       "                   Without-pay            6\n",
       "Handlers-cleaners  Federal-gov           23\n",
       "                   Local-gov             47\n",
       "                   Private             1272\n",
       "                   Self-emp-inc           2\n",
       "                   Self-emp-not-inc      15\n",
       "                   State-gov              9\n",
       "                   Without-pay            1\n",
       "Machine-op-inspct  Federal-gov           14\n",
       "                   Local-gov             12\n",
       "                   Private             1911\n",
       "                   Self-emp-inc          13\n",
       "                   Self-emp-not-inc      36\n",
       "                   State-gov             13\n",
       "                   Without-pay            1\n",
       "Other-service      Federal-gov           35\n",
       "                   Local-gov            193\n",
       "                   Private             2736\n",
       "                   Self-emp-inc          27\n",
       "                   Self-emp-not-inc     175\n",
       "                   State-gov            124\n",
       "                   Without-pay            1\n",
       "Priv-house-serv    Private              147\n",
       "Prof-specialty     Federal-gov          175\n",
       "                   Local-gov            705\n",
       "                   Private             2309\n",
       "                   Self-emp-inc         160\n",
       "                   Self-emp-not-inc     373\n",
       "                   State-gov            414\n",
       "Protective-serv    Federal-gov           28\n",
       "                   Local-gov            304\n",
       "                   Private              190\n",
       "                   Self-emp-inc           5\n",
       "                   Self-emp-not-inc       6\n",
       "                   State-gov            116\n",
       "Sales              Federal-gov           14\n",
       "                   Local-gov              7\n",
       "                   Private             2942\n",
       "                   Self-emp-inc         291\n",
       "                   Self-emp-not-inc     385\n",
       "                   State-gov             11\n",
       "Tech-support       Federal-gov           68\n",
       "                   Local-gov             38\n",
       "                   Private              735\n",
       "                   Self-emp-inc           3\n",
       "                   Self-emp-not-inc      26\n",
       "                   State-gov             57\n",
       "Transport-moving   Federal-gov           25\n",
       "                   Local-gov            115\n",
       "                   Private             1266\n",
       "                   Self-emp-inc          27\n",
       "                   Self-emp-not-inc     122\n",
       "                   State-gov             41\n",
       "                   Without-pay            1\n",
       "dtype: int64"
      ]
     },
     "execution_count": 33,
     "metadata": {},
     "output_type": "execute_result"
    }
   ],
   "source": [
    "census_data.groupby(['occupation', 'workclass']).size()"
   ]
  },
  {
   "cell_type": "markdown",
   "id": "a16746cd-5177-4c65-9280-dfde6f9b493f",
   "metadata": {},
   "source": [
    "Как всегда преобладает \"Private\" сектор, кроме фермерства и рыболовства, где на равне держится еще и \"Self-emp-not-inc\", но также тут больше всего тех, кто работает без оплаты."
   ]
  },
  {
   "cell_type": "markdown",
   "id": "dd92a48b-6767-4f0d-ba7e-aa9e6adcf364",
   "metadata": {
    "tags": []
   },
   "source": [
    "### Race"
   ]
  },
  {
   "cell_type": "code",
   "execution_count": 34,
   "id": "8abe6133-d30e-4151-a9b8-61ef516df689",
   "metadata": {},
   "outputs": [
    {
     "data": {
      "text/plain": [
       "<AxesSubplot:xlabel='race', ylabel='Count'>"
      ]
     },
     "execution_count": 34,
     "metadata": {},
     "output_type": "execute_result"
    },
    {
     "data": {
      "image/png": "[encoded data removed]",
      "text/plain": [
       "<Figure size 1080x720 with 1 Axes>"
      ]
     },
     "metadata": {
      "needs_background": "light"
     },
     "output_type": "display_data"
    }
   ],
   "source": [
    "plt.figure(figsize = (15, 10))\n",
    "sns.histplot(data = census_data, x = 'race')"
   ]
  },
  {
   "cell_type": "code",
   "execution_count": 35,
   "id": "76ea4637-cd89-48d5-80bd-aa7ec53abbda",
   "metadata": {},
   "outputs": [
    {
     "data": {
      "text/plain": [
       "White                 27795\n",
       "Black                  3122\n",
       "Asian-Pac-Islander     1038\n",
       "Amer-Indian-Eskimo      311\n",
       "Other                   271\n",
       "Name: race, dtype: int64"
      ]
     },
     "execution_count": 35,
     "metadata": {},
     "output_type": "execute_result"
    }
   ],
   "source": [
    "census_data['race'].value_counts()"
   ]
  },
  {
   "cell_type": "code",
   "execution_count": 36,
   "id": "b56d6c25-29d5-4114-a7cd-b17b98eafe17",
   "metadata": {},
   "outputs": [
    {
     "data": {
      "text/plain": [
       "race                income\n",
       "Amer-Indian-Eskimo  <=50K       275\n",
       "                    >50K         36\n",
       "Asian-Pac-Islander  <=50K       762\n",
       "                    >50K        276\n",
       "Black               <=50K      2735\n",
       "                    >50K        387\n",
       "Other               <=50K       246\n",
       "                    >50K         25\n",
       "White               <=50K     20680\n",
       "                    >50K       7115\n",
       "dtype: int64"
      ]
     },
     "execution_count": 36,
     "metadata": {},
     "output_type": "execute_result"
    }
   ],
   "source": [
    "census_data.groupby(['race', 'income']).size()"
   ]
  },
  {
   "cell_type": "markdown",
   "id": "8f922439-0456-47a1-8ec4-fc1f5457da30",
   "metadata": {},
   "source": [
    "Меньше всего отличий (примерно в 3 раза) имеют белые люди и азиаты с жителями островов Тихого океана. У остальных же разрыв больше, особенно в \"Other\". Это скорее всего связано с образованием."
   ]
  },
  {
   "cell_type": "code",
   "execution_count": 37,
   "id": "4d5adeed-42dc-4dab-9ff5-00a6dcc22842",
   "metadata": {},
   "outputs": [
    {
     "data": {
      "text/plain": [
       "education     race              \n",
       "10th          Amer-Indian-Eskimo      16\n",
       "              Asian-Pac-Islander      13\n",
       "              Black                  133\n",
       "              Other                    9\n",
       "              White                  762\n",
       "11th          Amer-Indian-Eskimo      14\n",
       "              Asian-Pac-Islander      21\n",
       "              Black                  153\n",
       "              Other                   10\n",
       "              White                  977\n",
       "12th          Amer-Indian-Eskimo       5\n",
       "              Asian-Pac-Islander       9\n",
       "              Black                   70\n",
       "              Other                   14\n",
       "              White                  335\n",
       "1st-4th       Amer-Indian-Eskimo       4\n",
       "              Asian-Pac-Islander       5\n",
       "              Black                   16\n",
       "              Other                    9\n",
       "              White                  132\n",
       "5th-6th       Amer-Indian-Eskimo       2\n",
       "              Asian-Pac-Islander      18\n",
       "              Black                   21\n",
       "              Other                   13\n",
       "              White                  278\n",
       "7th-8th       Amer-Indian-Eskimo       9\n",
       "              Asian-Pac-Islander      11\n",
       "              Black                   56\n",
       "              Other                   17\n",
       "              White                  552\n",
       "9th           Amer-Indian-Eskimo       5\n",
       "              Asian-Pac-Islander       9\n",
       "              Black                   89\n",
       "              Other                    8\n",
       "              White                  403\n",
       "Assoc-acdm    Amer-Indian-Eskimo       8\n",
       "              Asian-Pac-Islander      29\n",
       "              Black                  107\n",
       "              Other                    8\n",
       "              White                  915\n",
       "Assoc-voc     Amer-Indian-Eskimo      19\n",
       "              Asian-Pac-Islander      38\n",
       "              Black                  112\n",
       "              Other                    6\n",
       "              White                 1207\n",
       "Bachelors     Amer-Indian-Eskimo      21\n",
       "              Asian-Pac-Islander     289\n",
       "              Black                  330\n",
       "              Other                   33\n",
       "              White                 4680\n",
       "Doctorate     Amer-Indian-Eskimo       3\n",
       "              Asian-Pac-Islander      28\n",
       "              Black                   11\n",
       "              Other                    2\n",
       "              White                  369\n",
       "HS-grad       Amer-Indian-Eskimo     119\n",
       "              Asian-Pac-Islander     226\n",
       "              Black                 1173\n",
       "              Other                   78\n",
       "              White                 8898\n",
       "Masters       Amer-Indian-Eskimo       5\n",
       "              Asian-Pac-Islander      88\n",
       "              Black                   86\n",
       "              Other                    7\n",
       "              White                 1536\n",
       "Preschool     Asian-Pac-Islander       6\n",
       "              Black                    5\n",
       "              Other                    2\n",
       "              White                   37\n",
       "Prof-school   Amer-Indian-Eskimo       2\n",
       "              Asian-Pac-Islander      41\n",
       "              Black                   15\n",
       "              Other                    4\n",
       "              White                  514\n",
       "Some-college  Amer-Indian-Eskimo      79\n",
       "              Asian-Pac-Islander     207\n",
       "              Black                  745\n",
       "              Other                   51\n",
       "              White                 6200\n",
       "dtype: int64"
      ]
     },
     "execution_count": 37,
     "metadata": {},
     "output_type": "execute_result"
    }
   ],
   "source": [
    "census_data.groupby(['education', 'race']).size()"
   ]
  },
  {
   "cell_type": "code",
   "execution_count": 38,
   "id": "d02cac21-3ed0-4a87-a800-dd69211acf2c",
   "metadata": {},
   "outputs": [
    {
     "data": {
      "text/html": [
       "<div>\n",
       "<style scoped>\n",
       "    .dataframe tbody tr th:only-of-type {\n",
       "        vertical-align: middle;\n",
       "    }\n",
       "\n",
       "    .dataframe tbody tr th {\n",
       "        vertical-align: top;\n",
       "    }\n",
       "\n",
       "    .dataframe thead th {\n",
       "        text-align: right;\n",
       "    }\n",
       "</style>\n",
       "<table border=\"1\" class=\"dataframe\">\n",
       "  <thead>\n",
       "    <tr style=\"text-align: right;\">\n",
       "      <th></th>\n",
       "      <th>count</th>\n",
       "      <th>mean</th>\n",
       "      <th>std</th>\n",
       "      <th>min</th>\n",
       "      <th>25%</th>\n",
       "      <th>50%</th>\n",
       "      <th>75%</th>\n",
       "      <th>max</th>\n",
       "    </tr>\n",
       "    <tr>\n",
       "      <th>race</th>\n",
       "      <th></th>\n",
       "      <th></th>\n",
       "      <th></th>\n",
       "      <th></th>\n",
       "      <th></th>\n",
       "      <th></th>\n",
       "      <th></th>\n",
       "      <th></th>\n",
       "    </tr>\n",
       "  </thead>\n",
       "  <tbody>\n",
       "    <tr>\n",
       "      <th>Amer-Indian-Eskimo</th>\n",
       "      <td>311.0</td>\n",
       "      <td>9.311897</td>\n",
       "      <td>2.310387</td>\n",
       "      <td>2.0</td>\n",
       "      <td>9.0</td>\n",
       "      <td>9.0</td>\n",
       "      <td>10.0</td>\n",
       "      <td>16.0</td>\n",
       "    </tr>\n",
       "    <tr>\n",
       "      <th>Asian-Pac-Islander</th>\n",
       "      <td>1038.0</td>\n",
       "      <td>10.961464</td>\n",
       "      <td>2.812779</td>\n",
       "      <td>1.0</td>\n",
       "      <td>9.0</td>\n",
       "      <td>10.0</td>\n",
       "      <td>13.0</td>\n",
       "      <td>16.0</td>\n",
       "    </tr>\n",
       "    <tr>\n",
       "      <th>Black</th>\n",
       "      <td>3122.0</td>\n",
       "      <td>9.486227</td>\n",
       "      <td>2.298594</td>\n",
       "      <td>1.0</td>\n",
       "      <td>9.0</td>\n",
       "      <td>9.0</td>\n",
       "      <td>10.0</td>\n",
       "      <td>16.0</td>\n",
       "    </tr>\n",
       "    <tr>\n",
       "      <th>Other</th>\n",
       "      <td>271.0</td>\n",
       "      <td>8.841328</td>\n",
       "      <td>3.226153</td>\n",
       "      <td>1.0</td>\n",
       "      <td>7.5</td>\n",
       "      <td>9.0</td>\n",
       "      <td>10.0</td>\n",
       "      <td>16.0</td>\n",
       "    </tr>\n",
       "    <tr>\n",
       "      <th>White</th>\n",
       "      <td>27795.0</td>\n",
       "      <td>10.136571</td>\n",
       "      <td>2.568873</td>\n",
       "      <td>1.0</td>\n",
       "      <td>9.0</td>\n",
       "      <td>10.0</td>\n",
       "      <td>13.0</td>\n",
       "      <td>16.0</td>\n",
       "    </tr>\n",
       "  </tbody>\n",
       "</table>\n",
       "</div>"
      ],
      "text/plain": [
       "                      count       mean       std  min  25%   50%   75%   max\n",
       "race                                                                        \n",
       "Amer-Indian-Eskimo    311.0   9.311897  2.310387  2.0  9.0   9.0  10.0  16.0\n",
       "Asian-Pac-Islander   1038.0  10.961464  2.812779  1.0  9.0  10.0  13.0  16.0\n",
       "Black                3122.0   9.486227  2.298594  1.0  9.0   9.0  10.0  16.0\n",
       "Other                 271.0   8.841328  3.226153  1.0  7.5   9.0  10.0  16.0\n",
       "White               27795.0  10.136571  2.568873  1.0  9.0  10.0  13.0  16.0"
      ]
     },
     "execution_count": 38,
     "metadata": {},
     "output_type": "execute_result"
    }
   ],
   "source": [
    "census_data.groupby(['race'])['education.num'].describe()"
   ]
  },
  {
   "cell_type": "markdown",
   "id": "4417a1e1-2afe-401a-a90f-1310e0bf83af",
   "metadata": {},
   "source": [
    "Белые люди, а также азиаты и жители островов Тихого океана имеют более высокий уровень образования."
   ]
  },
  {
   "cell_type": "markdown",
   "id": "d3dbaea6-2e2b-4c0a-9635-5b3d3a5d596a",
   "metadata": {
    "tags": []
   },
   "source": [
    "### Sex"
   ]
  },
  {
   "cell_type": "code",
   "execution_count": 39,
   "id": "9e971bff-2517-45df-8668-5296a5aa3636",
   "metadata": {},
   "outputs": [
    {
     "data": {
      "text/plain": [
       "<AxesSubplot:xlabel='sex', ylabel='Count'>"
      ]
     },
     "execution_count": 39,
     "metadata": {},
     "output_type": "execute_result"
    },
    {
     "data": {
      "image/png": "[encoded data removed]",
      "text/plain": [
       "<Figure size 1080x720 with 1 Axes>"
      ]
     },
     "metadata": {
      "needs_background": "light"
     },
     "output_type": "display_data"
    }
   ],
   "source": [
    "plt.figure(figsize = (15, 10))\n",
    "sns.histplot(data = census_data, x = 'sex')"
   ]
  },
  {
   "cell_type": "code",
   "execution_count": 40,
   "id": "e16305fe-a2d8-4b2e-86bd-d1a25ceafcd4",
   "metadata": {},
   "outputs": [
    {
     "data": {
      "text/plain": [
       "Male      21775\n",
       "Female    10762\n",
       "Name: sex, dtype: int64"
      ]
     },
     "execution_count": 40,
     "metadata": {},
     "output_type": "execute_result"
    }
   ],
   "source": [
    "census_data['sex'].value_counts()"
   ]
  },
  {
   "cell_type": "markdown",
   "id": "222692db-1682-4afc-8045-4a05c631dc2f",
   "metadata": {},
   "source": [
    "Мужчин в два раза больше, чем женщин в этом датасете."
   ]
  },
  {
   "cell_type": "code",
   "execution_count": 41,
   "id": "ba16cc47-88c3-4f78-a4c6-70d963ac9d7a",
   "metadata": {},
   "outputs": [
    {
     "data": {
      "text/plain": [
       "sex     income\n",
       "Female  <=50K      9583\n",
       "        >50K       1179\n",
       "Male    <=50K     15115\n",
       "        >50K       6660\n",
       "dtype: int64"
      ]
     },
     "execution_count": 41,
     "metadata": {},
     "output_type": "execute_result"
    }
   ],
   "source": [
    "census_data.groupby(['sex', 'income']).size()"
   ]
  },
  {
   "cell_type": "markdown",
   "id": "566bfc69-85a6-40ff-b5e6-72c97e959c13",
   "metadata": {},
   "source": [
    "Заметно, что мужчина с большей вероятностью будет получать больше 50к. Чтобы найти причину, надо посмотреть соотношения пола с другими показателями."
   ]
  },
  {
   "cell_type": "code",
   "execution_count": 42,
   "id": "af0503ae-86a2-4a28-853b-a78eb119b444",
   "metadata": {},
   "outputs": [
    {
     "data": {
      "text/plain": [
       "<AxesSubplot:xlabel='sex', ylabel='age'>"
      ]
     },
     "execution_count": 42,
     "metadata": {},
     "output_type": "execute_result"
    },
    {
     "data": {
      "image/png": "[encoded data removed]",
      "text/plain": [
       "<Figure size 1080x720 with 1 Axes>"
      ]
     },
     "metadata": {
      "needs_background": "light"
     },
     "output_type": "display_data"
    }
   ],
   "source": [
    "plt.figure(figsize = (15, 10))\n",
    "sns.violinplot(data = census_data, x = 'sex', y = 'age')"
   ]
  },
  {
   "cell_type": "code",
   "execution_count": 43,
   "id": "681dc21f-e18c-485f-8fab-888e4f61fbf9",
   "metadata": {},
   "outputs": [
    {
     "data": {
      "text/html": [
       "<div>\n",
       "<style scoped>\n",
       "    .dataframe tbody tr th:only-of-type {\n",
       "        vertical-align: middle;\n",
       "    }\n",
       "\n",
       "    .dataframe tbody tr th {\n",
       "        vertical-align: top;\n",
       "    }\n",
       "\n",
       "    .dataframe thead th {\n",
       "        text-align: right;\n",
       "    }\n",
       "</style>\n",
       "<table border=\"1\" class=\"dataframe\">\n",
       "  <thead>\n",
       "    <tr style=\"text-align: right;\">\n",
       "      <th></th>\n",
       "      <th>count</th>\n",
       "      <th>mean</th>\n",
       "      <th>std</th>\n",
       "      <th>min</th>\n",
       "      <th>25%</th>\n",
       "      <th>50%</th>\n",
       "      <th>75%</th>\n",
       "      <th>max</th>\n",
       "    </tr>\n",
       "    <tr>\n",
       "      <th>sex</th>\n",
       "      <th></th>\n",
       "      <th></th>\n",
       "      <th></th>\n",
       "      <th></th>\n",
       "      <th></th>\n",
       "      <th></th>\n",
       "      <th></th>\n",
       "      <th></th>\n",
       "    </tr>\n",
       "  </thead>\n",
       "  <tbody>\n",
       "    <tr>\n",
       "      <th>Female</th>\n",
       "      <td>10762.0</td>\n",
       "      <td>36.864709</td>\n",
       "      <td>14.015010</td>\n",
       "      <td>17.0</td>\n",
       "      <td>25.0</td>\n",
       "      <td>35.0</td>\n",
       "      <td>46.0</td>\n",
       "      <td>90.0</td>\n",
       "    </tr>\n",
       "    <tr>\n",
       "      <th>Male</th>\n",
       "      <td>21775.0</td>\n",
       "      <td>39.436051</td>\n",
       "      <td>13.366506</td>\n",
       "      <td>17.0</td>\n",
       "      <td>29.0</td>\n",
       "      <td>38.0</td>\n",
       "      <td>48.0</td>\n",
       "      <td>90.0</td>\n",
       "    </tr>\n",
       "  </tbody>\n",
       "</table>\n",
       "</div>"
      ],
      "text/plain": [
       "          count       mean        std   min   25%   50%   75%   max\n",
       "sex                                                                \n",
       "Female  10762.0  36.864709  14.015010  17.0  25.0  35.0  46.0  90.0\n",
       "Male    21775.0  39.436051  13.366506  17.0  29.0  38.0  48.0  90.0"
      ]
     },
     "execution_count": 43,
     "metadata": {},
     "output_type": "execute_result"
    }
   ],
   "source": [
    "census_data.groupby(['sex'])['age'].describe()"
   ]
  },
  {
   "cell_type": "code",
   "execution_count": 44,
   "id": "3548133f-f1d1-4276-b2a0-59abd5720733",
   "metadata": {},
   "outputs": [
    {
     "data": {
      "text/html": [
       "<div>\n",
       "<style scoped>\n",
       "    .dataframe tbody tr th:only-of-type {\n",
       "        vertical-align: middle;\n",
       "    }\n",
       "\n",
       "    .dataframe tbody tr th {\n",
       "        vertical-align: top;\n",
       "    }\n",
       "\n",
       "    .dataframe thead tr th {\n",
       "        text-align: left;\n",
       "    }\n",
       "\n",
       "    .dataframe thead tr:last-of-type th {\n",
       "        text-align: right;\n",
       "    }\n",
       "</style>\n",
       "<table border=\"1\" class=\"dataframe\">\n",
       "  <thead>\n",
       "    <tr>\n",
       "      <th></th>\n",
       "      <th>age</th>\n",
       "    </tr>\n",
       "    <tr>\n",
       "      <th></th>\n",
       "      <th>mode</th>\n",
       "    </tr>\n",
       "    <tr>\n",
       "      <th>sex</th>\n",
       "      <th></th>\n",
       "    </tr>\n",
       "  </thead>\n",
       "  <tbody>\n",
       "    <tr>\n",
       "      <th>Female</th>\n",
       "      <td>20</td>\n",
       "    </tr>\n",
       "    <tr>\n",
       "      <th>Male</th>\n",
       "      <td>35</td>\n",
       "    </tr>\n",
       "  </tbody>\n",
       "</table>\n",
       "</div>"
      ],
      "text/plain": [
       "        age\n",
       "       mode\n",
       "sex        \n",
       "Female   20\n",
       "Male     35"
      ]
     },
     "execution_count": 44,
     "metadata": {},
     "output_type": "execute_result"
    }
   ],
   "source": [
    "census_data.groupby(['sex']).agg({'age': [pd.Series.mode]})"
   ]
  },
  {
   "cell_type": "markdown",
   "id": "bd1ab49c-2e49-463d-9131-1e7e8c809b15",
   "metadata": {},
   "source": [
    "Средний возраст мужчин лишь на пару лет больше, чем женщин, но разброс стоит чуть выше.\n",
    "Также мода указывает на то, что преобладают молодые женщины, но есть высокие показатели возраста, которые повышают среднее значение."
   ]
  },
  {
   "cell_type": "code",
   "execution_count": 45,
   "id": "a08d9d9e-9052-4db3-ac8b-0ae2612f7017",
   "metadata": {},
   "outputs": [
    {
     "data": {
      "text/plain": [
       "education     sex   \n",
       "10th          Female     295\n",
       "              Male       638\n",
       "11th          Female     432\n",
       "              Male       743\n",
       "12th          Female     144\n",
       "              Male       289\n",
       "1st-4th       Female      44\n",
       "              Male       122\n",
       "5th-6th       Female      84\n",
       "              Male       248\n",
       "7th-8th       Female     160\n",
       "              Male       485\n",
       "9th           Female     144\n",
       "              Male       370\n",
       "Assoc-acdm    Female     421\n",
       "              Male       646\n",
       "Assoc-voc     Female     500\n",
       "              Male       882\n",
       "Bachelors     Female    1618\n",
       "              Male      3735\n",
       "Doctorate     Female      86\n",
       "              Male       327\n",
       "HS-grad       Female    3388\n",
       "              Male      7106\n",
       "Masters       Female     536\n",
       "              Male      1186\n",
       "Preschool     Female      16\n",
       "              Male        34\n",
       "Prof-school   Female      92\n",
       "              Male       484\n",
       "Some-college  Female    2802\n",
       "              Male      4480\n",
       "dtype: int64"
      ]
     },
     "execution_count": 45,
     "metadata": {},
     "output_type": "execute_result"
    }
   ],
   "source": [
    "census_data.groupby(['education', 'sex']).size()"
   ]
  },
  {
   "cell_type": "code",
   "execution_count": 46,
   "id": "af6f6e5a-e289-4654-a63a-98a095b8c5dd",
   "metadata": {},
   "outputs": [
    {
     "data": {
      "text/html": [
       "<div>\n",
       "<style scoped>\n",
       "    .dataframe tbody tr th:only-of-type {\n",
       "        vertical-align: middle;\n",
       "    }\n",
       "\n",
       "    .dataframe tbody tr th {\n",
       "        vertical-align: top;\n",
       "    }\n",
       "\n",
       "    .dataframe thead th {\n",
       "        text-align: right;\n",
       "    }\n",
       "</style>\n",
       "<table border=\"1\" class=\"dataframe\">\n",
       "  <thead>\n",
       "    <tr style=\"text-align: right;\">\n",
       "      <th></th>\n",
       "      <th>count</th>\n",
       "      <th>mean</th>\n",
       "      <th>std</th>\n",
       "      <th>min</th>\n",
       "      <th>25%</th>\n",
       "      <th>50%</th>\n",
       "      <th>75%</th>\n",
       "      <th>max</th>\n",
       "    </tr>\n",
       "    <tr>\n",
       "      <th>sex</th>\n",
       "      <th></th>\n",
       "      <th></th>\n",
       "      <th></th>\n",
       "      <th></th>\n",
       "      <th></th>\n",
       "      <th></th>\n",
       "      <th></th>\n",
       "      <th></th>\n",
       "    </tr>\n",
       "  </thead>\n",
       "  <tbody>\n",
       "    <tr>\n",
       "      <th>Female</th>\n",
       "      <td>10762.0</td>\n",
       "      <td>10.037168</td>\n",
       "      <td>2.378213</td>\n",
       "      <td>1.0</td>\n",
       "      <td>9.0</td>\n",
       "      <td>10.0</td>\n",
       "      <td>12.0</td>\n",
       "      <td>16.0</td>\n",
       "    </tr>\n",
       "    <tr>\n",
       "      <th>Male</th>\n",
       "      <td>21775.0</td>\n",
       "      <td>10.103881</td>\n",
       "      <td>2.661820</td>\n",
       "      <td>1.0</td>\n",
       "      <td>9.0</td>\n",
       "      <td>10.0</td>\n",
       "      <td>13.0</td>\n",
       "      <td>16.0</td>\n",
       "    </tr>\n",
       "  </tbody>\n",
       "</table>\n",
       "</div>"
      ],
      "text/plain": [
       "          count       mean       std  min  25%   50%   75%   max\n",
       "sex                                                             \n",
       "Female  10762.0  10.037168  2.378213  1.0  9.0  10.0  12.0  16.0\n",
       "Male    21775.0  10.103881  2.661820  1.0  9.0  10.0  13.0  16.0"
      ]
     },
     "execution_count": 46,
     "metadata": {},
     "output_type": "execute_result"
    }
   ],
   "source": [
    "census_data.groupby(['sex'])['education.num'].describe()"
   ]
  },
  {
   "cell_type": "markdown",
   "id": "7db70c6a-1b95-47fb-840b-0739373db3fa",
   "metadata": {},
   "source": [
    "Те, кто закончил профессиональную школу, получил степень доктора, являются по больше части мужчинами. А именно в этих сферах в большинстве своем получают больше 50к."
   ]
  },
  {
   "cell_type": "code",
   "execution_count": 47,
   "id": "01111e8d-1d3c-43e1-a126-4409ba6c881a",
   "metadata": {},
   "outputs": [
    {
     "data": {
      "text/plain": [
       "occupation         sex   \n",
       "?                  Female     841\n",
       "                   Male      1002\n",
       "Adm-clerical       Female    2535\n",
       "                   Male      1233\n",
       "Armed-Forces       Male         9\n",
       "Craft-repair       Female     222\n",
       "                   Male      3872\n",
       "Exec-managerial    Female    1159\n",
       "                   Male      2906\n",
       "Farming-fishing    Female      65\n",
       "                   Male       927\n",
       "Handlers-cleaners  Female     164\n",
       "                   Male      1205\n",
       "Machine-op-inspct  Female     549\n",
       "                   Male      1451\n",
       "Other-service      Female    1799\n",
       "                   Male      1492\n",
       "Priv-house-serv    Female     139\n",
       "                   Male         8\n",
       "Prof-specialty     Female    1513\n",
       "                   Male      2623\n",
       "Protective-serv    Female      76\n",
       "                   Male       573\n",
       "Sales              Female    1263\n",
       "                   Male      2387\n",
       "Tech-support       Female     347\n",
       "                   Male       580\n",
       "Transport-moving   Female      90\n",
       "                   Male      1507\n",
       "dtype: int64"
      ]
     },
     "execution_count": 47,
     "metadata": {},
     "output_type": "execute_result"
    }
   ],
   "source": [
    "census_data.groupby(['occupation', 'sex']).size()"
   ]
  },
  {
   "cell_type": "markdown",
   "id": "da04c208-6c78-4ccd-a688-31dd2cf80529",
   "metadata": {},
   "source": [
    "Количество женщин в работах клерком, присмотром за домом и других сервисах преобладает над мужчинами, а эти сферы в основном не получают больше 50к."
   ]
  },
  {
   "cell_type": "markdown",
   "id": "0fb86a40-6d2a-4635-ae35-91b37f6626fe",
   "metadata": {
    "tags": []
   },
   "source": [
    "### Capital gain"
   ]
  },
  {
   "cell_type": "code",
   "execution_count": 48,
   "id": "06192826-151f-4fff-86f2-7635a331ce22",
   "metadata": {},
   "outputs": [
    {
     "data": {
      "text/plain": [
       "<AxesSubplot:xlabel='capital.gain', ylabel='Count'>"
      ]
     },
     "execution_count": 48,
     "metadata": {},
     "output_type": "execute_result"
    },
    {
     "data": {
      "image/png": "[encoded data removed]",
      "text/plain": [
       "<Figure size 1080x720 with 1 Axes>"
      ]
     },
     "metadata": {
      "needs_background": "light"
     },
     "output_type": "display_data"
    }
   ],
   "source": [
    "plt.figure(figsize = (15, 10))\n",
    "sns.histplot(data = census_data, x = 'capital.gain', kde = True)"
   ]
  },
  {
   "cell_type": "code",
   "execution_count": 49,
   "id": "e836af61-08e5-454e-a3fb-cce2ffdabcde",
   "metadata": {},
   "outputs": [
    {
     "data": {
      "text/plain": [
       "<AxesSubplot:xlabel='capital.gain'>"
      ]
     },
     "execution_count": 49,
     "metadata": {},
     "output_type": "execute_result"
    },
    {
     "data": {
      "image/png": "[encoded data removed]",
      "text/plain": [
       "<Figure size 1080x720 with 1 Axes>"
      ]
     },
     "metadata": {
      "needs_background": "light"
     },
     "output_type": "display_data"
    }
   ],
   "source": [
    "plt.figure(figsize = (15, 10))\n",
    "sns.boxplot(data = census_data, x = 'capital.gain')"
   ]
  },
  {
   "cell_type": "code",
   "execution_count": 50,
   "id": "a99f7ae0-b248-441b-8bf7-cff54a4c3b7b",
   "metadata": {},
   "outputs": [
    {
     "data": {
      "text/plain": [
       "count    32537.000000\n",
       "mean      1078.443741\n",
       "std       7387.957424\n",
       "min          0.000000\n",
       "25%          0.000000\n",
       "50%          0.000000\n",
       "75%          0.000000\n",
       "max      99999.000000\n",
       "Name: capital.gain, dtype: float64"
      ]
     },
     "execution_count": 50,
     "metadata": {},
     "output_type": "execute_result"
    }
   ],
   "source": [
    "census_data['capital.gain'].describe()"
   ]
  },
  {
   "cell_type": "markdown",
   "id": "5c876d43-3249-4ccc-81ed-3ff340eadcb1",
   "metadata": {},
   "source": [
    "Огромное количество людей имеют нулевой прирост капитала. Только единицы имеют экстремальные значения, что и сместило среднее значение."
   ]
  },
  {
   "cell_type": "code",
   "execution_count": 51,
   "id": "ead5c36d-4eb4-4962-ba52-6052f4aa6aa8",
   "metadata": {},
   "outputs": [
    {
     "data": {
      "text/html": [
       "<div>\n",
       "<style scoped>\n",
       "    .dataframe tbody tr th:only-of-type {\n",
       "        vertical-align: middle;\n",
       "    }\n",
       "\n",
       "    .dataframe tbody tr th {\n",
       "        vertical-align: top;\n",
       "    }\n",
       "\n",
       "    .dataframe thead th {\n",
       "        text-align: right;\n",
       "    }\n",
       "</style>\n",
       "<table border=\"1\" class=\"dataframe\">\n",
       "  <thead>\n",
       "    <tr style=\"text-align: right;\">\n",
       "      <th></th>\n",
       "      <th>count</th>\n",
       "      <th>mean</th>\n",
       "      <th>std</th>\n",
       "      <th>min</th>\n",
       "      <th>25%</th>\n",
       "      <th>50%</th>\n",
       "      <th>75%</th>\n",
       "      <th>max</th>\n",
       "    </tr>\n",
       "    <tr>\n",
       "      <th>income</th>\n",
       "      <th></th>\n",
       "      <th></th>\n",
       "      <th></th>\n",
       "      <th></th>\n",
       "      <th></th>\n",
       "      <th></th>\n",
       "      <th></th>\n",
       "      <th></th>\n",
       "    </tr>\n",
       "  </thead>\n",
       "  <tbody>\n",
       "    <tr>\n",
       "      <th>&lt;=50K</th>\n",
       "      <td>24698.0</td>\n",
       "      <td>148.884970</td>\n",
       "      <td>963.557955</td>\n",
       "      <td>0.0</td>\n",
       "      <td>0.0</td>\n",
       "      <td>0.0</td>\n",
       "      <td>0.0</td>\n",
       "      <td>41310.0</td>\n",
       "    </tr>\n",
       "    <tr>\n",
       "      <th>&gt;50K</th>\n",
       "      <td>7839.0</td>\n",
       "      <td>4007.164562</td>\n",
       "      <td>14572.097223</td>\n",
       "      <td>0.0</td>\n",
       "      <td>0.0</td>\n",
       "      <td>0.0</td>\n",
       "      <td>0.0</td>\n",
       "      <td>99999.0</td>\n",
       "    </tr>\n",
       "  </tbody>\n",
       "</table>\n",
       "</div>"
      ],
      "text/plain": [
       "          count         mean           std  min  25%  50%  75%      max\n",
       "income                                                                 \n",
       "<=50K   24698.0   148.884970    963.557955  0.0  0.0  0.0  0.0  41310.0\n",
       ">50K     7839.0  4007.164562  14572.097223  0.0  0.0  0.0  0.0  99999.0"
      ]
     },
     "execution_count": 51,
     "metadata": {},
     "output_type": "execute_result"
    }
   ],
   "source": [
    "census_data.groupby(['income'])['capital.gain'].describe()"
   ]
  },
  {
   "cell_type": "markdown",
   "id": "72738ff2-2efa-4350-8524-1398d7e60633",
   "metadata": {},
   "source": [
    "Человек с приростом капитала с большей вероятносью будет получать больше 50к."
   ]
  },
  {
   "cell_type": "markdown",
   "id": "4496d320-c754-44d5-a511-a8e698c650d3",
   "metadata": {
    "tags": []
   },
   "source": [
    "### Capital loss"
   ]
  },
  {
   "cell_type": "code",
   "execution_count": 52,
   "id": "c71a5470-69b1-4ce7-935b-7e3f9df86ebc",
   "metadata": {},
   "outputs": [
    {
     "data": {
      "text/plain": [
       "<AxesSubplot:xlabel='capital.loss', ylabel='Count'>"
      ]
     },
     "execution_count": 52,
     "metadata": {},
     "output_type": "execute_result"
    },
    {
     "data": {
      "image/png": "[encoded data removed]",
      "text/plain": [
       "<Figure size 1080x720 with 1 Axes>"
      ]
     },
     "metadata": {
      "needs_background": "light"
     },
     "output_type": "display_data"
    }
   ],
   "source": [
    "plt.figure(figsize = (15, 10))\n",
    "sns.histplot(data = census_data, x = 'capital.loss', kde = True)"
   ]
  },
  {
   "cell_type": "code",
   "execution_count": 53,
   "id": "45d471c6-01ba-41d9-a835-11c36be1ffd1",
   "metadata": {},
   "outputs": [
    {
     "data": {
      "text/plain": [
       "<AxesSubplot:xlabel='capital.loss'>"
      ]
     },
     "execution_count": 53,
     "metadata": {},
     "output_type": "execute_result"
    },
    {
     "data": {
      "image/png": "[encoded data removed]",
      "text/plain": [
       "<Figure size 1080x720 with 1 Axes>"
      ]
     },
     "metadata": {
      "needs_background": "light"
     },
     "output_type": "display_data"
    }
   ],
   "source": [
    "plt.figure(figsize = (15, 10))\n",
    "sns.boxplot(data = census_data, x = 'capital.loss')"
   ]
  },
  {
   "cell_type": "code",
   "execution_count": 54,
   "id": "21d25302-34fc-4539-800b-99fb9d76864f",
   "metadata": {},
   "outputs": [
    {
     "data": {
      "text/plain": [
       "count    32537.000000\n",
       "mean        87.368227\n",
       "std        403.101833\n",
       "min          0.000000\n",
       "25%          0.000000\n",
       "50%          0.000000\n",
       "75%          0.000000\n",
       "max       4356.000000\n",
       "Name: capital.loss, dtype: float64"
      ]
     },
     "execution_count": 54,
     "metadata": {},
     "output_type": "execute_result"
    }
   ],
   "source": [
    "census_data['capital.loss'].describe()"
   ]
  },
  {
   "cell_type": "markdown",
   "id": "a7f8d2c5-c952-4ff1-8cdc-76adcb8f001f",
   "metadata": {},
   "source": [
    "Практически все имеют нулевые потери капитала."
   ]
  },
  {
   "cell_type": "code",
   "execution_count": 55,
   "id": "fe33169d-f448-49e6-acc8-25d7e42001b7",
   "metadata": {},
   "outputs": [
    {
     "data": {
      "text/html": [
       "<div>\n",
       "<style scoped>\n",
       "    .dataframe tbody tr th:only-of-type {\n",
       "        vertical-align: middle;\n",
       "    }\n",
       "\n",
       "    .dataframe tbody tr th {\n",
       "        vertical-align: top;\n",
       "    }\n",
       "\n",
       "    .dataframe thead th {\n",
       "        text-align: right;\n",
       "    }\n",
       "</style>\n",
       "<table border=\"1\" class=\"dataframe\">\n",
       "  <thead>\n",
       "    <tr style=\"text-align: right;\">\n",
       "      <th></th>\n",
       "      <th>count</th>\n",
       "      <th>mean</th>\n",
       "      <th>std</th>\n",
       "      <th>min</th>\n",
       "      <th>25%</th>\n",
       "      <th>50%</th>\n",
       "      <th>75%</th>\n",
       "      <th>max</th>\n",
       "    </tr>\n",
       "    <tr>\n",
       "      <th>income</th>\n",
       "      <th></th>\n",
       "      <th></th>\n",
       "      <th></th>\n",
       "      <th></th>\n",
       "      <th></th>\n",
       "      <th></th>\n",
       "      <th></th>\n",
       "      <th></th>\n",
       "    </tr>\n",
       "  </thead>\n",
       "  <tbody>\n",
       "    <tr>\n",
       "      <th>&lt;=50K</th>\n",
       "      <td>24698.0</td>\n",
       "      <td>53.190258</td>\n",
       "      <td>310.890099</td>\n",
       "      <td>0.0</td>\n",
       "      <td>0.0</td>\n",
       "      <td>0.0</td>\n",
       "      <td>0.0</td>\n",
       "      <td>4356.0</td>\n",
       "    </tr>\n",
       "    <tr>\n",
       "      <th>&gt;50K</th>\n",
       "      <td>7839.0</td>\n",
       "      <td>195.051282</td>\n",
       "      <td>595.555395</td>\n",
       "      <td>0.0</td>\n",
       "      <td>0.0</td>\n",
       "      <td>0.0</td>\n",
       "      <td>0.0</td>\n",
       "      <td>3683.0</td>\n",
       "    </tr>\n",
       "  </tbody>\n",
       "</table>\n",
       "</div>"
      ],
      "text/plain": [
       "          count        mean         std  min  25%  50%  75%     max\n",
       "income                                                             \n",
       "<=50K   24698.0   53.190258  310.890099  0.0  0.0  0.0  0.0  4356.0\n",
       ">50K     7839.0  195.051282  595.555395  0.0  0.0  0.0  0.0  3683.0"
      ]
     },
     "execution_count": 55,
     "metadata": {},
     "output_type": "execute_result"
    }
   ],
   "source": [
    "census_data.groupby(['income'])['capital.loss'].describe()"
   ]
  },
  {
   "cell_type": "markdown",
   "id": "f667970e-4561-47e6-be93-0a8eaed5937f",
   "metadata": {},
   "source": [
    "Интересно, что среднее значение потери капитала выше у тех, кто получает больше 50к, но тут надо посмотреть на огромный разброс и то, что максимальное значение все-таким меньше, чем у тех, кто получает ниже 50к."
   ]
  },
  {
   "cell_type": "markdown",
   "id": "116ebba3-d697-4196-843d-2c3e1d0b7d2e",
   "metadata": {
    "tags": []
   },
   "source": [
    "### Hours per week"
   ]
  },
  {
   "cell_type": "code",
   "execution_count": 56,
   "id": "31635dd1-aa5d-4024-a75c-a86741cf7095",
   "metadata": {},
   "outputs": [
    {
     "data": {
      "text/plain": [
       "<AxesSubplot:xlabel='hours.per.week', ylabel='Count'>"
      ]
     },
     "execution_count": 56,
     "metadata": {},
     "output_type": "execute_result"
    },
    {
     "data": {
      "image/png": "[encoded data removed]",
      "text/plain": [
       "<Figure size 1080x720 with 1 Axes>"
      ]
     },
     "metadata": {
      "needs_background": "light"
     },
     "output_type": "display_data"
    }
   ],
   "source": [
    "plt.figure(figsize = (15, 10))\n",
    "sns.histplot(data = census_data, x = 'hours.per.week', kde = True)"
   ]
  },
  {
   "cell_type": "code",
   "execution_count": 57,
   "id": "4afc437c-8139-49ba-9ae1-58751f9f5b03",
   "metadata": {},
   "outputs": [
    {
     "data": {
      "text/plain": [
       "<AxesSubplot:xlabel='hours.per.week'>"
      ]
     },
     "execution_count": 57,
     "metadata": {},
     "output_type": "execute_result"
    },
    {
     "data": {
      "image/png": "[encoded data removed]",
      "text/plain": [
       "<Figure size 1080x720 with 1 Axes>"
      ]
     },
     "metadata": {
      "needs_background": "light"
     },
     "output_type": "display_data"
    }
   ],
   "source": [
    "plt.figure(figsize = (15, 10))\n",
    "sns.boxplot(data = census_data, x = 'hours.per.week')"
   ]
  },
  {
   "cell_type": "code",
   "execution_count": 58,
   "id": "e95e9765-9af8-4d2b-9a38-f931a9cec5f9",
   "metadata": {},
   "outputs": [
    {
     "data": {
      "text/plain": [
       "count    32537.000000\n",
       "mean        40.440329\n",
       "std         12.346889\n",
       "min          1.000000\n",
       "25%         40.000000\n",
       "50%         40.000000\n",
       "75%         45.000000\n",
       "max         99.000000\n",
       "Name: hours.per.week, dtype: float64"
      ]
     },
     "execution_count": 58,
     "metadata": {},
     "output_type": "execute_result"
    }
   ],
   "source": [
    "census_data['hours.per.week'].describe()"
   ]
  },
  {
   "cell_type": "markdown",
   "id": "e92ddc85-1ee7-4f53-9ff6-4eca5f52172d",
   "metadata": {},
   "source": [
    "Среднее количество рабочих часов в неделю - 40."
   ]
  },
  {
   "cell_type": "code",
   "execution_count": 59,
   "id": "5663d218-53f0-4464-9ed8-2c041d067e25",
   "metadata": {},
   "outputs": [
    {
     "data": {
      "text/html": [
       "<div>\n",
       "<style scoped>\n",
       "    .dataframe tbody tr th:only-of-type {\n",
       "        vertical-align: middle;\n",
       "    }\n",
       "\n",
       "    .dataframe tbody tr th {\n",
       "        vertical-align: top;\n",
       "    }\n",
       "\n",
       "    .dataframe thead th {\n",
       "        text-align: right;\n",
       "    }\n",
       "</style>\n",
       "<table border=\"1\" class=\"dataframe\">\n",
       "  <thead>\n",
       "    <tr style=\"text-align: right;\">\n",
       "      <th></th>\n",
       "      <th>count</th>\n",
       "      <th>mean</th>\n",
       "      <th>std</th>\n",
       "      <th>min</th>\n",
       "      <th>25%</th>\n",
       "      <th>50%</th>\n",
       "      <th>75%</th>\n",
       "      <th>max</th>\n",
       "    </tr>\n",
       "    <tr>\n",
       "      <th>income</th>\n",
       "      <th></th>\n",
       "      <th></th>\n",
       "      <th></th>\n",
       "      <th></th>\n",
       "      <th></th>\n",
       "      <th></th>\n",
       "      <th></th>\n",
       "      <th></th>\n",
       "    </tr>\n",
       "  </thead>\n",
       "  <tbody>\n",
       "    <tr>\n",
       "      <th>&lt;=50K</th>\n",
       "      <td>24698.0</td>\n",
       "      <td>38.842862</td>\n",
       "      <td>12.318286</td>\n",
       "      <td>1.0</td>\n",
       "      <td>35.0</td>\n",
       "      <td>40.0</td>\n",
       "      <td>40.0</td>\n",
       "      <td>99.0</td>\n",
       "    </tr>\n",
       "    <tr>\n",
       "      <th>&gt;50K</th>\n",
       "      <td>7839.0</td>\n",
       "      <td>45.473402</td>\n",
       "      <td>11.014165</td>\n",
       "      <td>1.0</td>\n",
       "      <td>40.0</td>\n",
       "      <td>40.0</td>\n",
       "      <td>50.0</td>\n",
       "      <td>99.0</td>\n",
       "    </tr>\n",
       "  </tbody>\n",
       "</table>\n",
       "</div>"
      ],
      "text/plain": [
       "          count       mean        std  min   25%   50%   75%   max\n",
       "income                                                            \n",
       "<=50K   24698.0  38.842862  12.318286  1.0  35.0  40.0  40.0  99.0\n",
       ">50K     7839.0  45.473402  11.014165  1.0  40.0  40.0  50.0  99.0"
      ]
     },
     "execution_count": 59,
     "metadata": {},
     "output_type": "execute_result"
    }
   ],
   "source": [
    "census_data.groupby(['income'])['hours.per.week'].describe()"
   ]
  },
  {
   "cell_type": "markdown",
   "id": "de601049-0095-4c63-b7e4-9e27cc84af64",
   "metadata": {},
   "source": [
    "Люди, получающие больше 50к, работают чуть больше остальных."
   ]
  },
  {
   "cell_type": "markdown",
   "id": "03b259ca-c577-4611-9a3d-3ffc9a8c36ae",
   "metadata": {
    "tags": []
   },
   "source": [
    "### Native country"
   ]
  },
  {
   "cell_type": "code",
   "execution_count": 60,
   "id": "cbf99072-aa28-4e37-b118-e394e6a2733b",
   "metadata": {},
   "outputs": [
    {
     "data": {
      "text/plain": [
       "United-States                 29153\n",
       "Mexico                          639\n",
       "?                               582\n",
       "Philippines                     198\n",
       "Germany                         137\n",
       "Canada                          121\n",
       "Puerto-Rico                     114\n",
       "El-Salvador                     106\n",
       "India                           100\n",
       "Cuba                             95\n",
       "England                          90\n",
       "Jamaica                          81\n",
       "South                            80\n",
       "China                            75\n",
       "Italy                            73\n",
       "Dominican-Republic               70\n",
       "Vietnam                          67\n",
       "Guatemala                        62\n",
       "Japan                            62\n",
       "Poland                           60\n",
       "Columbia                         59\n",
       "Taiwan                           51\n",
       "Haiti                            44\n",
       "Iran                             43\n",
       "Portugal                         37\n",
       "Nicaragua                        34\n",
       "Peru                             31\n",
       "Greece                           29\n",
       "France                           29\n",
       "Ecuador                          28\n",
       "Ireland                          24\n",
       "Hong                             20\n",
       "Cambodia                         19\n",
       "Trinadad&Tobago                  19\n",
       "Laos                             18\n",
       "Thailand                         18\n",
       "Yugoslavia                       16\n",
       "Outlying-US(Guam-USVI-etc)       14\n",
       "Hungary                          13\n",
       "Honduras                         13\n",
       "Scotland                         12\n",
       "Holand-Netherlands                1\n",
       "Name: native.country, dtype: int64"
      ]
     },
     "execution_count": 60,
     "metadata": {},
     "output_type": "execute_result"
    }
   ],
   "source": [
    "census_data['native.country'].value_counts()"
   ]
  },
  {
   "cell_type": "markdown",
   "id": "60bda8d5-210d-46c3-a6d2-3fc98e9989db",
   "metadata": {},
   "source": [
    "США предсталяет собой моду и выступает значительно больше остальных, поэтому null значения можно заменить на них."
   ]
  },
  {
   "cell_type": "code",
   "execution_count": 61,
   "id": "2034fe62-5684-4630-ac4e-260978409511",
   "metadata": {},
   "outputs": [
    {
     "data": {
      "text/plain": [
       "native.country              income\n",
       "?                           <=50K       436\n",
       "                            >50K        146\n",
       "Cambodia                    <=50K        12\n",
       "                            >50K          7\n",
       "Canada                      <=50K        82\n",
       "                            >50K         39\n",
       "China                       <=50K        55\n",
       "                            >50K         20\n",
       "Columbia                    <=50K        57\n",
       "                            >50K          2\n",
       "Cuba                        <=50K        70\n",
       "                            >50K         25\n",
       "Dominican-Republic          <=50K        68\n",
       "                            >50K          2\n",
       "Ecuador                     <=50K        24\n",
       "                            >50K          4\n",
       "El-Salvador                 <=50K        97\n",
       "                            >50K          9\n",
       "England                     <=50K        60\n",
       "                            >50K         30\n",
       "France                      <=50K        17\n",
       "                            >50K         12\n",
       "Germany                     <=50K        93\n",
       "                            >50K         44\n",
       "Greece                      <=50K        21\n",
       "                            >50K          8\n",
       "Guatemala                   <=50K        59\n",
       "                            >50K          3\n",
       "Haiti                       <=50K        40\n",
       "                            >50K          4\n",
       "Holand-Netherlands          <=50K         1\n",
       "Honduras                    <=50K        12\n",
       "                            >50K          1\n",
       "Hong                        <=50K        14\n",
       "                            >50K          6\n",
       "Hungary                     <=50K        10\n",
       "                            >50K          3\n",
       "India                       <=50K        60\n",
       "                            >50K         40\n",
       "Iran                        <=50K        25\n",
       "                            >50K         18\n",
       "Ireland                     <=50K        19\n",
       "                            >50K          5\n",
       "Italy                       <=50K        48\n",
       "                            >50K         25\n",
       "Jamaica                     <=50K        71\n",
       "                            >50K         10\n",
       "Japan                       <=50K        38\n",
       "                            >50K         24\n",
       "Laos                        <=50K        16\n",
       "                            >50K          2\n",
       "Mexico                      <=50K       606\n",
       "                            >50K         33\n",
       "Nicaragua                   <=50K        32\n",
       "                            >50K          2\n",
       "Outlying-US(Guam-USVI-etc)  <=50K        14\n",
       "Peru                        <=50K        29\n",
       "                            >50K          2\n",
       "Philippines                 <=50K       137\n",
       "                            >50K         61\n",
       "Poland                      <=50K        48\n",
       "                            >50K         12\n",
       "Portugal                    <=50K        33\n",
       "                            >50K          4\n",
       "Puerto-Rico                 <=50K       102\n",
       "                            >50K         12\n",
       "Scotland                    <=50K         9\n",
       "                            >50K          3\n",
       "South                       <=50K        64\n",
       "                            >50K         16\n",
       "Taiwan                      <=50K        31\n",
       "                            >50K         20\n",
       "Thailand                    <=50K        15\n",
       "                            >50K          3\n",
       "Trinadad&Tobago             <=50K        17\n",
       "                            >50K          2\n",
       "United-States               <=50K     21984\n",
       "                            >50K       7169\n",
       "Vietnam                     <=50K        62\n",
       "                            >50K          5\n",
       "Yugoslavia                  <=50K        10\n",
       "                            >50K          6\n",
       "dtype: int64"
      ]
     },
     "execution_count": 61,
     "metadata": {},
     "output_type": "execute_result"
    }
   ],
   "source": [
    "census_data.groupby(['native.country', 'income']).size()"
   ]
  },
  {
   "cell_type": "markdown",
   "id": "5df90d67-96de-4a07-920e-dbfb3df74407",
   "metadata": {},
   "source": [
    "Очень мало данных по странам, кроме США, поэтому довольно трудно делать однозначный вывод по зависимости страны происхождения от заработка. Можно лишь найти тенденцию, что если человек приехал из развитой страны, то с большой вероятностью будет получать выше 50к, но есть и исключения."
   ]
  },
  {
   "cell_type": "markdown",
   "id": "fddb93b7-7bbd-4706-8745-d4794316653f",
   "metadata": {
    "tags": []
   },
   "source": [
    "### Fnlwgt"
   ]
  },
  {
   "cell_type": "code",
   "execution_count": 62,
   "id": "87d54c40-1297-4de5-800f-2f533cc83147",
   "metadata": {},
   "outputs": [
    {
     "data": {
      "text/plain": [
       "<AxesSubplot:xlabel='fnlwgt', ylabel='Count'>"
      ]
     },
     "execution_count": 62,
     "metadata": {},
     "output_type": "execute_result"
    },
    {
     "data": {
      "image/png": "[encoded data removed]",
      "text/plain": [
       "<Figure size 1080x720 with 1 Axes>"
      ]
     },
     "metadata": {
      "needs_background": "light"
     },
     "output_type": "display_data"
    }
   ],
   "source": [
    "plt.figure(figsize = (15, 10))\n",
    "sns.histplot(data = census_data, x = 'fnlwgt', kde = True)"
   ]
  },
  {
   "cell_type": "code",
   "execution_count": 63,
   "id": "1aa11301-5440-49cc-9768-7375d90f2f61",
   "metadata": {},
   "outputs": [
    {
     "data": {
      "text/plain": [
       "<AxesSubplot:xlabel='fnlwgt'>"
      ]
     },
     "execution_count": 63,
     "metadata": {},
     "output_type": "execute_result"
    },
    {
     "data": {
      "image/png": "[encoded data removed]",
      "text/plain": [
       "<Figure size 1080x720 with 1 Axes>"
      ]
     },
     "metadata": {
      "needs_background": "light"
     },
     "output_type": "display_data"
    }
   ],
   "source": [
    "plt.figure(figsize = (15, 10))\n",
    "sns.boxplot(data = census_data, x = 'fnlwgt')"
   ]
  },
  {
   "cell_type": "code",
   "execution_count": 64,
   "id": "00df893b-efda-4afa-8959-3e30fa6fb3ad",
   "metadata": {},
   "outputs": [
    {
     "data": {
      "text/plain": [
       "count    3.253700e+04\n",
       "mean     1.897808e+05\n",
       "std      1.055565e+05\n",
       "min      1.228500e+04\n",
       "25%      1.178270e+05\n",
       "50%      1.783560e+05\n",
       "75%      2.369930e+05\n",
       "max      1.484705e+06\n",
       "Name: fnlwgt, dtype: float64"
      ]
     },
     "execution_count": 64,
     "metadata": {},
     "output_type": "execute_result"
    }
   ],
   "source": [
    "census_data['fnlwgt'].describe()"
   ]
  },
  {
   "cell_type": "code",
   "execution_count": 65,
   "id": "8ef719b5-e2de-4bb5-9432-56c2f9e57483",
   "metadata": {},
   "outputs": [
    {
     "data": {
      "text/html": [
       "<div>\n",
       "<style scoped>\n",
       "    .dataframe tbody tr th:only-of-type {\n",
       "        vertical-align: middle;\n",
       "    }\n",
       "\n",
       "    .dataframe tbody tr th {\n",
       "        vertical-align: top;\n",
       "    }\n",
       "\n",
       "    .dataframe thead th {\n",
       "        text-align: right;\n",
       "    }\n",
       "</style>\n",
       "<table border=\"1\" class=\"dataframe\">\n",
       "  <thead>\n",
       "    <tr style=\"text-align: right;\">\n",
       "      <th></th>\n",
       "      <th>count</th>\n",
       "      <th>mean</th>\n",
       "      <th>std</th>\n",
       "      <th>min</th>\n",
       "      <th>25%</th>\n",
       "      <th>50%</th>\n",
       "      <th>75%</th>\n",
       "      <th>max</th>\n",
       "    </tr>\n",
       "    <tr>\n",
       "      <th>income</th>\n",
       "      <th></th>\n",
       "      <th></th>\n",
       "      <th></th>\n",
       "      <th></th>\n",
       "      <th></th>\n",
       "      <th></th>\n",
       "      <th></th>\n",
       "      <th></th>\n",
       "    </tr>\n",
       "  </thead>\n",
       "  <tbody>\n",
       "    <tr>\n",
       "      <th>&lt;=50K</th>\n",
       "      <td>24698.0</td>\n",
       "      <td>190345.926796</td>\n",
       "      <td>106487.413197</td>\n",
       "      <td>12285.0</td>\n",
       "      <td>117606.0</td>\n",
       "      <td>179465.0</td>\n",
       "      <td>238968.25</td>\n",
       "      <td>1484705.0</td>\n",
       "    </tr>\n",
       "    <tr>\n",
       "      <th>&gt;50K</th>\n",
       "      <td>7839.0</td>\n",
       "      <td>188000.480674</td>\n",
       "      <td>102554.464101</td>\n",
       "      <td>14878.0</td>\n",
       "      <td>119100.0</td>\n",
       "      <td>176063.0</td>\n",
       "      <td>230969.00</td>\n",
       "      <td>1226583.0</td>\n",
       "    </tr>\n",
       "  </tbody>\n",
       "</table>\n",
       "</div>"
      ],
      "text/plain": [
       "          count           mean            std      min       25%       50%  \\\n",
       "income                                                                       \n",
       "<=50K   24698.0  190345.926796  106487.413197  12285.0  117606.0  179465.0   \n",
       ">50K     7839.0  188000.480674  102554.464101  14878.0  119100.0  176063.0   \n",
       "\n",
       "              75%        max  \n",
       "income                        \n",
       "<=50K   238968.25  1484705.0  \n",
       ">50K    230969.00  1226583.0  "
      ]
     },
     "execution_count": 65,
     "metadata": {},
     "output_type": "execute_result"
    }
   ],
   "source": [
    "census_data.groupby(['income'])['fnlwgt'].describe()"
   ]
  },
  {
   "cell_type": "markdown",
   "id": "246c29c8-4d9c-4d2b-9893-f0ebd5198f00",
   "metadata": {},
   "source": [
    "Различия не очень большие, но те, кто полчает меньше 50к, имеют чуть больший fnlwgt."
   ]
  },
  {
   "cell_type": "markdown",
   "id": "938022a5-cdf0-48a0-965d-9fe2fcba7643",
   "metadata": {
    "tags": []
   },
   "source": [
    "### Заполнение пустых значений"
   ]
  },
  {
   "cell_type": "code",
   "execution_count": 66,
   "id": "2d656fcb-9c1b-4cdf-bda9-c0b099bd9421",
   "metadata": {},
   "outputs": [
    {
     "data": {
      "text/plain": [
       "age                  0\n",
       "workclass         1836\n",
       "fnlwgt               0\n",
       "education            0\n",
       "education.num        0\n",
       "marital.status       0\n",
       "occupation        1843\n",
       "race                 0\n",
       "sex                  0\n",
       "capital.gain         0\n",
       "capital.loss         0\n",
       "hours.per.week       0\n",
       "native.country     582\n",
       "income               0\n",
       "dtype: int64"
      ]
     },
     "execution_count": 66,
     "metadata": {},
     "output_type": "execute_result"
    }
   ],
   "source": [
    "census_data = census_data.replace(to_replace = '?', value = np.nan) \n",
    "census_data.isna().sum()"
   ]
  },
  {
   "cell_type": "markdown",
   "id": "7f9c9a45-49a2-406b-84d1-2dcc146c1eda",
   "metadata": {},
   "source": [
    "Все неизвестные значения находятся в колонках \"workclass\", \"occupation\" и \"native.country\". С \"workclass\" и \"native.country\" все довольно понятно, так как там выступало одно значение, которое стояло значительно выше других. C \"occupation\" такого не было, а сравнение с другими колнками не привело к какому-то однозначному результату, поэтому было выбрано использовать все-таки моду."
   ]
  },
  {
   "cell_type": "code",
   "execution_count": 67,
   "id": "eaa80c25-a914-4390-b779-71182c1b3c27",
   "metadata": {},
   "outputs": [],
   "source": [
    "null_columns = census_data.columns[census_data.isnull().any()]\n",
    "for i in list(null_columns):\n",
    "    census_data[i].fillna(census_data[i].mode().values[0], inplace = True)"
   ]
  },
  {
   "cell_type": "markdown",
   "id": "034945c8",
   "metadata": {},
   "source": [
    "# Summary"
   ]
  },
  {
   "cell_type": "markdown",
   "id": "2958e7cd-718a-41cb-bffc-58f6db25294c",
   "metadata": {},
   "source": [
    "Данный датасет был в некоторых аспектах необъективен: \n",
    "а) мужчин в два раза больше, чем женщин;\n",
    "б) почти все родились в США;\n",
    "в) многие являются белыми людьми;\n",
    "г) смещение в сторону тех, кто зарабатывает меньше 50к.\n",
    "Основными показателями получения заработка больше 50к оказались образование, сфера работы и возраст как основные причины. Люди с выоким уровнем образования, которые еще и работали в выосокооплачиваемых областях, с большей вероятностью получали больше 50к. Возраст влияет на опыт и должность, что тоже дает большие отличия, а также оказывает влияние на другие показатели. Так, например, теми, кто никогда не состоял в браке (зарабатывают меньше 50к), являются в основном молодые люди. Мужчины в данном датасете чаще зарабатывают больше 50к, чем женщины, так как имеют более высокий уровень образования, а последние работают в низкооплачиваемых областях. Заметно, что многие не имеют как прироста, так и потери капитала, и работают 40 часов в неделю."
   ]
  }
 ],
 "metadata": {
  "kernelspec": {
   "display_name": "Python 3 (ipykernel)",
   "language": "python",
   "name": "python3"
  },
  "language_info": {
   "codemirror_mode": {
    "name": "ipython",
    "version": 3
   },
   "file_extension": ".py",
   "mimetype": "text/x-python",
   "name": "python",
   "nbconvert_exporter": "python",
   "pygments_lexer": "ipython3",
   "version": "3.9.2"
  },
  "toc": {
   "base_numbering": 1,
   "nav_menu": {},
   "number_sections": true,
   "sideBar": true,
   "skip_h1_title": false,
   "title_cell": "Table of Contents",
   "title_sidebar": "Contents",
   "toc_cell": false,
   "toc_position": {},
   "toc_section_display": true,
   "toc_window_display": false
  }
 },
 "nbformat": 4,
 "nbformat_minor": 5
}
